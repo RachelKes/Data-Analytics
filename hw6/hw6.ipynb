{
 "cells": [
  {
   "cell_type": "markdown",
   "id": "962bcdbc-f3ce-488f-9dfb-836d4b056b2b",
   "metadata": {},
   "source": [
    "1. Sử dụng linear regression xây dựng mô hình dự đoán thời gian đến nơi trễ\n",
    "(arr_delay) dựa vào thời gian xuất phát trễ (dep_delay) và khoảng cách\n",
    "(distance). Hướng dẫn:\n",
    "a. Chia tập dữ liệu ra làm 2 tập: train và test\n",
    "b. Input: dep_delay và distance\n",
    "c. Output: arr_delay\n",
    "2. Chia ra làm 3 mô hình cho 3 sân bay xuất phát (JFK, LGA, EWR) và nhận xét\n",
    "về độ chính xác so với mô hình chung"
   ]
  },
  {
   "cell_type": "code",
   "execution_count": 461,
   "id": "e4781a7d-8865-4225-a5e9-4a6002bce071",
   "metadata": {},
   "outputs": [],
   "source": [
    "%matplotlib inline\n",
    "import numpy as np\n",
    "from matplotlib import pyplot as plt\n",
    "from scipy import stats\n",
    "import statistics\n",
    "np.set_printoptions(precision=3, threshold=20, suppress=True)\n",
    "import csv\n",
    "from matplotlib import cm\n",
    "from sklearn.linear_model import LinearRegression\n",
    "from sklearn import metrics"
   ]
  },
  {
   "cell_type": "code",
   "execution_count": 462,
   "id": "c3aeedd6-f924-4f7e-817b-ac460b1a8f7b",
   "metadata": {},
   "outputs": [
    {
     "name": "stdout",
     "output_type": "stream",
     "text": [
      "[['2' '11' '1400' 'EWR']\n",
      " ['4' '20' '1416' 'LGA']\n",
      " ['2' '33' '1089' 'JFK']\n",
      " ...\n",
      " ['NA' 'NA' '764' 'LGA']\n",
      " ['NA' 'NA' '419' 'LGA']\n",
      " ['NA' 'NA' '431' 'LGA']]\n",
      "(336776, 4)\n"
     ]
    }
   ],
   "source": [
    "def read_file(path):\n",
    "    with open(path, newline='', encoding='utf-8') as csv_file:\n",
    "        data_csv = csv.reader(csv_file, delimiter=',')\n",
    "        header = next(data_csv)\n",
    "        raw_data = np.array([row for row in data_csv])\n",
    "        return raw_data\n",
    "    \n",
    "path = \"nycflights.csv\"\n",
    "raw_data = read_file(path)\n",
    "flights = raw_data[:,[5,7,14,11]]\n",
    "print(flights)\n",
    "print(flights.shape)"
   ]
  },
  {
   "cell_type": "code",
   "execution_count": 463,
   "id": "dafd1d46-7abc-4329-a00e-93e5e2cc8c34",
   "metadata": {},
   "outputs": [
    {
     "name": "stdout",
     "output_type": "stream",
     "text": [
      "[[   2.   11. 1400.]\n",
      " [   4.   20. 1416.]\n",
      " [   2.   33. 1089.]\n",
      " ...\n",
      " [   0.    0.  764.]\n",
      " [   0.    0.  419.]\n",
      " [   0.    0.  431.]]\n"
     ]
    }
   ],
   "source": [
    "# Get data from each airport\n",
    "flight_data = np.where(flights == \"NA\", np.nan, flights)\n",
    "data= np.where(flight_data == \"nan\", 0, flight_data)\n",
    "flt = data[:,:3].astype(np.float32)\n",
    "# print(data)\n",
    "# print(type(data[0,0]))\n",
    "print(flt)\n",
    "\n",
    "jfk_flt = data[data[:,3] == 'JFK']\n",
    "lga_flt = data[data[:,3] == 'LGA']\n",
    "ewr_flt = data[data[:,3] == 'EWR']\n",
    "\n",
    "jfk = jfk_flt[:,:3].astype(np.float64)\n",
    "lga = lga_flt[:,:3].astype(np.float64)\n",
    "ewr = ewr_flt[:,:3].astype(np.float64)\n",
    "\n",
    "# print(jfk)\n",
    "# print(lga)\n",
    "# print(ewr)"
   ]
  },
  {
   "cell_type": "code",
   "execution_count": 464,
   "id": "f5d597f9-8112-420b-8975-1bdcfac8275b",
   "metadata": {},
   "outputs": [],
   "source": [
    "def count(dat):\n",
    "    unique, counts = np.unique(dat, return_counts=True)\n",
    "    return unique, counts"
   ]
  },
  {
   "cell_type": "code",
   "execution_count": 465,
   "id": "8e3585f8-a87a-42b3-b1ea-7e151910c8df",
   "metadata": {},
   "outputs": [],
   "source": [
    "def spread(dat):\n",
    "    min = np.min(dat)\n",
    "    max = np.max(dat)\n",
    "    ptp = np.ptp(dat)\n",
    "    var = np.var(dat)\n",
    "    std = np.std(dat)\n",
    "    return min, max, ptp, var, std"
   ]
  },
  {
   "cell_type": "code",
   "execution_count": 466,
   "id": "77151c3d-cc70-4ba1-bfb6-4f069e98135a",
   "metadata": {},
   "outputs": [],
   "source": [
    "def central(dat):\n",
    "    mean = np.mean(dat)\n",
    "    median = np.median(dat)\n",
    "    mode = statistics.mode(dat)\n",
    "    quantile = np.quantile(dat, [0.25, 0.5, 0.75])\n",
    "    return mean, median, mode, quantile"
   ]
  },
  {
   "cell_type": "code",
   "execution_count": 467,
   "id": "429f256e-609f-4835-b8a0-1475310807d4",
   "metadata": {},
   "outputs": [],
   "source": [
    "def stat(dat):\n",
    "    skew = stats.skew(dat)\n",
    "    kurtosis = stats.kurtosis(dat)\n",
    "    return skew, kurtosis"
   ]
  },
  {
   "cell_type": "code",
   "execution_count": 468,
   "id": "ad94b64c-a677-40ee-bc55-6573b64cd8f6",
   "metadata": {},
   "outputs": [],
   "source": [
    "def corr(x, y):\n",
    "    cor = np.corrcoef(x, y)\n",
    "    return cor"
   ]
  },
  {
   "cell_type": "code",
   "execution_count": 469,
   "id": "95ff5a6f-6d28-424f-8ecb-ab29ccebc86b",
   "metadata": {},
   "outputs": [
    {
     "name": "stdout",
     "output_type": "stream",
     "text": [
      "[2. 4. 2. ... 0. 0. 0.]\n",
      "[11. 20. 33. ...  0.  0.  0.]\n",
      "[1400. 1416. 1089. ...  764.  419.  431.]\n"
     ]
    }
   ],
   "source": [
    "# Data from the whole airports\n",
    "dep_delay = flt[:,0]\n",
    "arr_delay = flt[:,1]\n",
    "distance = flt[:,2]\n",
    "\n",
    "print(dep_delay)\n",
    "print(arr_delay)\n",
    "print(distance)"
   ]
  },
  {
   "cell_type": "code",
   "execution_count": 470,
   "id": "af5ce74b-9daf-472f-a17d-ad7f7616b113",
   "metadata": {},
   "outputs": [
    {
     "name": "stdout",
     "output_type": "stream",
     "text": [
      "unique\t\t\t\t\t\tcounts\n",
      "[ -43.  -33.  -32. ... 1126. 1137. 1301.]\t[    1     1     1 ... 24619 24769 24821]\n",
      "[  17.   80.   94. ... 3370. 4963. 4983.]\t[    1     1     1 ...  8857 10263 11262]\n",
      "[ -86.  -79.  -75. ... 1109. 1127. 1272.]\t[    1     1     1 ...  7088  7177 14839]\n"
     ]
    }
   ],
   "source": [
    "# Check the metrics\n",
    "# Occurences\n",
    "unique, counts = count(dep_delay)\n",
    "unique1, counts1 = count(distance)\n",
    "unique2, counts2 = count(arr_delay)\n",
    "print('unique', 'counts', sep='\\t\\t\\t\\t\\t\\t')\n",
    "print(np.sort(unique), np.sort(counts), sep='\\t')\n",
    "print(np.sort(unique1), np.sort(counts1), sep='\\t')\n",
    "print(np.sort(unique2), np.sort(counts2), sep='\\t')"
   ]
  },
  {
   "cell_type": "code",
   "execution_count": 471,
   "id": "f0011535-9225-4e2e-ae88-6ef2651da872",
   "metadata": {},
   "outputs": [
    {
     "name": "stdout",
     "output_type": "stream",
     "text": [
      "min\tmax\tptp\tvar\t\tstd\n",
      "-43.0\t1301.0\t1344.0\t1581.032\t39.76219\n",
      "17.0\t4983.0\t4966.0\t537629.06\t733.23193\n",
      "-86.0\t1272.0\t1358.0\t1937.638\t44.01861\n"
     ]
    }
   ],
   "source": [
    "# Spread Tendency\n",
    "min, max, ptp, var, std = spread(dep_delay)\n",
    "min1, max1, ptp1, var1, std1 = spread(distance)\n",
    "min2, max2, ptp2, var2, std2 = spread(arr_delay)\n",
    "print('min', 'max', 'ptp', 'var', '\\tstd', sep='\\t')\n",
    "print(min, max, ptp, var, std , sep='\\t')\n",
    "print(min1, max1, ptp1, var1, std1, sep='\\t')\n",
    "print(min2, max2, ptp2, var2, std2 , sep='\\t')"
   ]
  },
  {
   "cell_type": "code",
   "execution_count": 472,
   "id": "6ac45098-4249-4ff7-a746-6f04e9354043",
   "metadata": {},
   "outputs": [
    {
     "name": "stdout",
     "output_type": "stream",
     "text": [
      "mean\t\tmedian\tmode\tquantile\n",
      "12.329264\t-1.0\t-5.0\t[-5. -1. 10.]\n",
      "1039.9125\t872.0\t2475.0\t[ 502.  872. 1389.]\n",
      "6.7023005\t-4.0\t0.0\t[-16.  -4.  13.]\n"
     ]
    }
   ],
   "source": [
    "# Central Tendency\n",
    "mean, median, mode, quantile = central(dep_delay)\n",
    "mean1, median1, mode1, quantile1 = central(distance)\n",
    "mean2, median2, mode2, quantile2 = central(arr_delay)\n",
    "print('mean', '\\tmedian', 'mode', 'quantile', sep='\\t')\n",
    "print(mean, median, mode, quantile, sep='\\t')\n",
    "print(mean1, median1, mode1, quantile1, sep='\\t')\n",
    "print(mean2, median2, mode2, quantile2, sep='\\t')"
   ]
  },
  {
   "cell_type": "code",
   "execution_count": 473,
   "id": "478709bc-fc3b-4c20-b5ae-fabefbae53cb",
   "metadata": {},
   "outputs": [
    {
     "name": "stdout",
     "output_type": "stream",
     "text": [
      "skew\t\t\tkurtosis\n",
      "4.867459297180176\t45.0484776664063\n",
      "1.128685712814331\t1.1936055344638907\n",
      "3.7792301177978516\t30.18303607753912\n"
     ]
    }
   ],
   "source": [
    "# Stats\n",
    "skew, kurtosis = stat(dep_delay)\n",
    "skew1, kurtosis1 = stat(distance)\n",
    "skew2, kurtosis2 = stat(arr_delay) \n",
    "print('skew', 'kurtosis', sep='\\t\\t\\t')\n",
    "print(skew, kurtosis, sep='\\t')\n",
    "print(skew1, kurtosis1 , sep='\\t')\n",
    "print(skew2, kurtosis2, sep='\\t')"
   ]
  },
  {
   "cell_type": "code",
   "execution_count": 474,
   "id": "bc469cdd-e1c4-44ee-85b4-63bc614846d8",
   "metadata": {},
   "outputs": [
    {
     "name": "stdout",
     "output_type": "stream",
     "text": [
      "[[1.    0.909]\n",
      " [0.909 1.   ]]\n",
      "[[ 1.    -0.059]\n",
      " [-0.059  1.   ]]\n"
     ]
    }
   ],
   "source": [
    "# Check the correlation between arr_delay & dep_delay, arr_delay & distance\n",
    "cor_dep_arr = corr(dep_delay, arr_delay)\n",
    "cor_dis_arr = corr(distance, arr_delay) \n",
    "print(cor_dep_arr, cor_dis_arr, sep='\\n')"
   ]
  },
  {
   "cell_type": "code",
   "execution_count": 475,
   "id": "ff04993c-f274-43f4-957e-e30489942ed8",
   "metadata": {},
   "outputs": [],
   "source": [
    "def corr_plot(x, y, a, b): \n",
    "    slope, intercept, r, *__ = stats.linregress(x, y)\n",
    "    line = f'Regression line: y={intercept:.2f}+{slope:.2f}x, r={r:.2f}'\n",
    "    \n",
    "    fig, ax = plt.subplots()\n",
    "    ax.plot(x, y, linewidth=0, marker='o', label='Data points', alpha=.5)\n",
    "    ax.plot(x, intercept + slope * x, label=line)\n",
    "    ax.set_xlabel(a)\n",
    "    ax.set_ylabel(b)\n",
    "    ax.legend(facecolor='white')\n",
    "    plt.show()"
   ]
  },
  {
   "cell_type": "code",
   "execution_count": 476,
   "id": "b4aff4f2-fb68-49ae-aba7-db812a21ae12",
   "metadata": {},
   "outputs": [
    {
     "data": {
      "image/png": "[encoded data removed]",
      "text/plain": [
       "<Figure size 432x288 with 1 Axes>"
      ]
     },
     "metadata": {
      "needs_background": "light"
     },
     "output_type": "display_data"
    }
   ],
   "source": [
    "# The correlation between arr_delay & dep_delay\n",
    "corr_plot(dep_delay, arr_delay, 'Departure Delay', 'Arrival Delay')"
   ]
  },
  {
   "cell_type": "code",
   "execution_count": 477,
   "id": "dcc84ec7-e24b-4214-8279-e6fe28490a05",
   "metadata": {},
   "outputs": [
    {
     "data": {
      "image/png": "[encoded data removed]",
      "text/plain": [
       "<Figure size 432x288 with 1 Axes>"
      ]
     },
     "metadata": {
      "needs_background": "light"
     },
     "output_type": "display_data"
    }
   ],
   "source": [
    "# The correlation between arr_delay & distance\n",
    "corr_plot(distance, arr_delay, 'Distance', 'Arrival Delay')"
   ]
  },
  {
   "cell_type": "code",
   "execution_count": 478,
   "id": "e3591d85-1a58-404a-a469-83624efc0bf7",
   "metadata": {},
   "outputs": [
    {
     "name": "stdout",
     "output_type": "stream",
     "text": [
      "(336776, 2)\n",
      "(336776,)\n",
      "(269420, 2) (269420,)\n",
      "(67356, 2) (67356,)\n"
     ]
    }
   ],
   "source": [
    "# Divide data into 2 sets of Train & Test\n",
    "N_TRAIN = int(flt.shape[0]*.8)\n",
    "# print(N_TRAIN)\n",
    "X = flt[:,[0,2]]\n",
    "Y = flt[:,1]\n",
    "print(X.shape)\n",
    "print(Y.shape)\n",
    "\n",
    "x_train, y_train = X[0:N_TRAIN], Y[0:N_TRAIN] \n",
    "print(x_train.shape, y_train.shape)\n",
    "\n",
    "x_test, y_test = X[N_TRAIN:], Y[N_TRAIN:] \n",
    "print(x_test.shape, y_test.shape)"
   ]
  },
  {
   "cell_type": "markdown",
   "id": "01780bd0-36ab-415a-98df-eccd94fa54f6",
   "metadata": {},
   "source": [
    "Multiple Linear Regression: arr_delay = m1*(dep_delay) + m2*(distance) + b\n",
    "- Input: dep_delay & distance\n",
    "- Output: arr_delay"
   ]
  },
  {
   "cell_type": "code",
   "execution_count": 479,
   "id": "330cd629-456d-440d-90e0-cb36b6b0cac4",
   "metadata": {},
   "outputs": [],
   "source": [
    "# Create a mlt linear regression model and fit the data\n",
    "mlt_model = LinearRegression().fit(x_train, y_train)"
   ]
  },
  {
   "cell_type": "code",
   "execution_count": 480,
   "id": "e8040485-6852-4e8c-8b96-0d563889af15",
   "metadata": {},
   "outputs": [
    {
     "name": "stdout",
     "output_type": "stream",
     "text": [
      "intercept:  -2.2968292236328125\n",
      "slope:  [ 1.001 -0.003]\n"
     ]
    }
   ],
   "source": [
    "# Get results (.intercept_ is a scalar, .coef_ is an array)\n",
    "print('intercept: ', format(mlt_model.intercept_))\n",
    "print('slope: ', format(mlt_model.coef_))"
   ]
  },
  {
   "cell_type": "code",
   "execution_count": 481,
   "id": "66ea0352-d85f-47ae-845a-231d1f1fa587",
   "metadata": {},
   "outputs": [
    {
     "name": "stdout",
     "output_type": "stream",
     "text": [
      "Regression Equation: Arrival Delay = -2.2968 + (1.0014 * Departure Delay) + (-0.0028* Distance) + e\n"
     ]
    }
   ],
   "source": [
    "# Model equation\n",
    "print(f'Regression Equation: Arrival Delay = {mlt_model.intercept_:.4f} + ({mlt_model.coef_[0]:.4f} * Departure Delay) + ({mlt_model.coef_[1]:.4f}* Distance) + e')"
   ]
  },
  {
   "cell_type": "code",
   "execution_count": 482,
   "id": "b62346a5-bfbd-4bb1-bc15-90888d6361c5",
   "metadata": {},
   "outputs": [
    {
     "name": "stdout",
     "output_type": "stream",
     "text": [
      "28.968346\n",
      "-0.58729935\n"
     ]
    }
   ],
   "source": [
    "# Predict response on a value pair of Dep delay and Distance\n",
    "y_pred = mlt_model.predict([x_test[0]]).squeeze()\n",
    "print(y_pred)\n",
    "y_pred = mlt_model.predict([x_test[10]]).squeeze()\n",
    "print(y_pred)"
   ]
  },
  {
   "cell_type": "code",
   "execution_count": 483,
   "id": "8e3e2440-f2af-484d-9b97-539341f3a34f",
   "metadata": {},
   "outputs": [
    {
     "name": "stdout",
     "output_type": "stream",
     "text": [
      "Prediction for test set: [ 28.968  -6.893 -10.554 ...  -4.456  -3.481  -3.515]\n"
     ]
    }
   ],
   "source": [
    "# Apply the mlr model for predictions\n",
    "# Prediction of test set, \n",
    "y_pred = mlt_model.predict(x_test)\n",
    "# Predicted values\n",
    "print(\"Prediction for test set: {}\".format(y_pred))"
   ]
  },
  {
   "cell_type": "code",
   "execution_count": 484,
   "id": "d6595400-544b-474b-9332-3d5f550c2271",
   "metadata": {},
   "outputs": [
    {
     "name": "stdout",
     "output_type": "stream",
     "text": [
      "Actual value [ 30. -17. -26. ...   0.   0.   0.] \n",
      " Predicted value [ 28.968  -6.893 -10.554 ...  -4.456  -3.481  -3.515]\n"
     ]
    }
   ],
   "source": [
    "# Actual value and the predicted value\n",
    "print('Actual value', format(y_test), '\\n', 'Predicted value', format(y_pred))"
   ]
  },
  {
   "cell_type": "code",
   "execution_count": 485,
   "id": "1ef95e28-a9ca-4f48-b3ab-da51314d65de",
   "metadata": {},
   "outputs": [
    {
     "data": {
      "image/png": "[encoded data removed]",
      "text/plain": [
       "<Figure size 432x288 with 1 Axes>"
      ]
     },
     "metadata": {
      "needs_background": "light"
     },
     "output_type": "display_data"
    }
   ],
   "source": [
    "# Scatter plot\n",
    "colors = np.random.randint(100, size=(y_pred.size))\n",
    "sizes = np.random.randint(100, size=(y_pred.size))\n",
    "\n",
    "plt.figure(figsize=[6,4]) \n",
    "plt.scatter(y_pred, y_test, marker='o', alpha=.5, s=sizes, c=colors)\n",
    "plt.show()"
   ]
  },
  {
   "cell_type": "code",
   "execution_count": 486,
   "id": "6ded11de-cd1f-485a-ae89-571aaf470014",
   "metadata": {},
   "outputs": [
    {
     "name": "stdout",
     "output_type": "stream",
     "text": [
      "17.497796810232103\n",
      "-0.8227580483071506\n"
     ]
    }
   ],
   "source": [
    "# Predict for a flight\n",
    "# Predict an arrival delay of flight with 24 minutes departure delay and distance 1500 miles\n",
    "st_flight = mlt_model.predict([np.array([24, 1500])]).squeeze()\n",
    "print(st_flight)\n",
    "\n",
    "# Predict an arrival delay of flight with 5 minutes departure delay and distance 1250 miles\n",
    "nd_flight = mlt_model.predict([np.array([5, 1250])]).squeeze()\n",
    "print(nd_flight)"
   ]
  },
  {
   "cell_type": "code",
   "execution_count": 487,
   "id": "5d9639b4-a3ea-4043-bf01-0476815ba158",
   "metadata": {},
   "outputs": [
    {
     "name": "stdout",
     "output_type": "stream",
     "text": [
      "R squared: 0.83\n",
      "Residuals: [-1.032 10.107 15.446 ... -4.456 -3.481 -3.515]\n",
      "Q squared: 0.82\n",
      "R2 score: 0.8210887811589693\n",
      "Mean Absolute Error: 13.557646\n",
      "Mean Square Error: 355.56238\n",
      "Root Mean Square Error: 18.856361\n",
      "Percentile Error: [-41.846  31.591]\n"
     ]
    }
   ],
   "source": [
    "from sklearn.metrics import r2_score\n",
    "# Residuals (regression error) \n",
    "err = y_pred - y_test\n",
    "# Coefficient of determination (R square - goodness of fit): \n",
    "r_square = mlt_model.score(x_train, y_train)\n",
    "# Predicted variation (Q square - goodness of prediction)\n",
    "q_square = mlt_model.score(x_test, y_test)  # np.mean(abs(err))\n",
    "# R2 score\n",
    "r2_score = r2_score(y_test, y_pred)\n",
    "# Mean Absolute Error\n",
    "meanAbErr = metrics.mean_absolute_error(y_test, y_pred)\n",
    "# Mean Square Error\n",
    "meanSqErr = metrics.mean_squared_error(y_test, y_pred)\n",
    "# Root Mean Square Error\n",
    "rootMeanSqErr = np.sqrt(metrics.mean_squared_error(y_test, y_pred))\n",
    "# Percentile Error\n",
    "perCenTileErr = np.percentile(err, [2.5, 97.5])\n",
    "print('R squared: {:.2f}'.format(r_square))\n",
    "print('Residuals:', err)\n",
    "print('Q squared: {:.2f}'.format(q_square))\n",
    "print('R2 score:', r2_score)\n",
    "print('Mean Absolute Error:', meanAbErr)\n",
    "print('Mean Square Error:', meanSqErr)\n",
    "print('Root Mean Square Error:', rootMeanSqErr)\n",
    "print('Percentile Error:', perCenTileErr)"
   ]
  },
  {
   "cell_type": "markdown",
   "id": "15b88b6c-ef76-4fe6-a495-c99dfcb4b7cf",
   "metadata": {},
   "source": [
    "- R Squared: The value of R Square is 0.83, which indicates that 83% of the data fit the regression model.\n",
    "- Mean Absolute Error: Mean Absolute Error is the absolute difference between actual and predicted values. The MAE obtained for this particular model is 13.557646, which is not good as it better be close to 0.\n",
    "- Mean Square Error: The lower the value, the better is the model’s performance. The MSE obtained for this particular model is 355.56238, which is bad.\n",
    "- Root Mean Square Error: is the standard deviation of the errors which occur when a prediction is made on a dataset. It is considered to determine the accuracy of the model. The lower the value, the better is the model’s performance. The RMSE obtained for this particular model is 18.856361, which is not good.\n",
    "- One reason could be the missing values that swapped to 0 to ease computing instead of removing them from the data set.\n",
    "- Let's build a multivariate linear regression to predict the flights from the other airports to figure out the reasons. "
   ]
  },
  {
   "cell_type": "code",
   "execution_count": 488,
   "id": "50c6ff3e-9add-4ea1-8833-b714794ffd97",
   "metadata": {},
   "outputs": [
    {
     "data": {
      "image/png": "[encoded data removed]",
      "text/plain": [
       "<Figure size 432x288 with 1 Axes>"
      ]
     },
     "metadata": {
      "needs_background": "light"
     },
     "output_type": "display_data"
    }
   ],
   "source": [
    "def plot_error(err, bins=10):\n",
    "    mean, std = np.mean(err), np.std(err)\n",
    "    \n",
    "    plt.figure(figsize=[6,4])    \n",
    "    plt.title(\"Prediction Error\")\n",
    "    plt.xlim([mean - 4*std,mean + 4*std]); \n",
    "    plt.hist(err, density=True, bins=bins, color='green')\n",
    "    \n",
    "    x = np.linspace(mean - 4*std, mean + 4*std,100)\n",
    "    plt.plot(x, stats.norm.pdf(x, mean, std))\n",
    "    \n",
    "    norm_dist = np.random.normal(mean, std, 10000)\n",
    "    plt.hist(norm_dist, color='blue', alpha=0.4, density=True, bins=50)\n",
    "    plt.show()\n",
    "plot_error(err, bins=20)"
   ]
  },
  {
   "cell_type": "markdown",
   "id": "32cd0910-1420-4d46-ba7f-2587d1b25f1f",
   "metadata": {},
   "source": [
    "# JFK"
   ]
  },
  {
   "cell_type": "code",
   "execution_count": 489,
   "id": "81db2fa4-11cd-4219-bbe1-debaeb94dbe5",
   "metadata": {},
   "outputs": [
    {
     "name": "stdout",
     "output_type": "stream",
     "text": [
      "(111279, 2)\n",
      "(111279,)\n",
      "(89023, 2) (89023,)\n",
      "(22256, 2) (22256,)\n"
     ]
    }
   ],
   "source": [
    "N_TRAIN_JFK = int(jfk.shape[0]*.8)\n",
    "X = jfk[:,[0,2]]\n",
    "Y = jfk[:,1]\n",
    "print(X.shape)\n",
    "print(Y.shape)\n",
    "\n",
    "x_train, y_train = X[0:N_TRAIN_JFK], Y[0:N_TRAIN_JFK] \n",
    "print(x_train.shape, y_train.shape)\n",
    "\n",
    "x_test, y_test = X[N_TRAIN_JFK:], Y[N_TRAIN_JFK:] \n",
    "print(x_test.shape, y_test.shape)"
   ]
  },
  {
   "cell_type": "code",
   "execution_count": 490,
   "id": "aa9500e3-36bf-447a-8e62-abd4cc5df30a",
   "metadata": {},
   "outputs": [],
   "source": [
    "mlt_model_jfk = LinearRegression().fit(x_train, y_train)"
   ]
  },
  {
   "cell_type": "code",
   "execution_count": 491,
   "id": "827c65d5-2575-4c6a-a235-2a7e7c8594c1",
   "metadata": {},
   "outputs": [
    {
     "name": "stdout",
     "output_type": "stream",
     "text": [
      "intercept:  -3.47233015462089\n",
      "slope:  [ 1.005 -0.002]\n"
     ]
    }
   ],
   "source": [
    "print('intercept: ', format(mlt_model_jfk.intercept_))\n",
    "print('slope: ', format(mlt_model_jfk.coef_))"
   ]
  },
  {
   "cell_type": "code",
   "execution_count": 492,
   "id": "fb45daf7-a9dd-4eab-a623-62cab490d442",
   "metadata": {},
   "outputs": [
    {
     "name": "stdout",
     "output_type": "stream",
     "text": [
      "Regression Equation: Arrival Delay = -3.4723 + (1.0053 * Departure Delay) + (-0.0028* Distance) + e\n"
     ]
    }
   ],
   "source": [
    "print(f'Regression Equation: Arrival Delay = {mlt_model_jfk.intercept_:.4f} + ({mlt_model_jfk.coef_[0]:.4f} * Departure Delay) + ({mlt_model.coef_[1]:.4f}* Distance) + e')"
   ]
  },
  {
   "cell_type": "code",
   "execution_count": 493,
   "id": "5641a9ed-7a3c-456b-9fd8-ad31a1892a01",
   "metadata": {},
   "outputs": [
    {
     "name": "stdout",
     "output_type": "stream",
     "text": [
      "179.9851543140376\n",
      "Prediction for test set: [179.985  -9.894   4.961 ...   8.17  -17.165  -3.952]\n"
     ]
    }
   ],
   "source": [
    "y_pred = mlt_model_jfk.predict([x_test[0]]).squeeze()\n",
    "print(y_pred)\n",
    "y_pred = mlt_model_jfk.predict(x_test)\n",
    "print(\"Prediction for test set: {}\".format(y_pred))"
   ]
  },
  {
   "cell_type": "code",
   "execution_count": 494,
   "id": "9d6d4380-8887-4eca-a0ff-8814b5696f48",
   "metadata": {},
   "outputs": [
    {
     "name": "stdout",
     "output_type": "stream",
     "text": [
      "17.278932770183452\n",
      "-1.259171844817077\n"
     ]
    }
   ],
   "source": [
    "# Predict an arrival delay of flight with 24 minutes departure delay and distance 1500 miles from JFK\n",
    "st_flight = mlt_model_jfk.predict([np.array([24, 1500])]).squeeze()\n",
    "print(st_flight)\n",
    "# Predict an arrival delay of flight with 5 minutes departure delay and distance 1250 miles from JFK\n",
    "nd_flight = mlt_model_jfk.predict([np.array([5, 1250])]).squeeze()\n",
    "print(nd_flight)"
   ]
  },
  {
   "cell_type": "code",
   "execution_count": 495,
   "id": "dc6164d5-0215-44af-a945-86ff0ad4998b",
   "metadata": {},
   "outputs": [
    {
     "name": "stdout",
     "output_type": "stream",
     "text": [
      "R squared: 0.81\n",
      "Residuals: [-42.015 -10.894 -16.039 ...   7.17    7.835  -3.952]\n",
      "Q squared: 0.79\n",
      "R2 score: 0.7867875541647844\n",
      "Mean Absolute Error: 14.74433752936012\n",
      "Mean Square Error: 419.43987036367764\n",
      "Root Mean Square Error: 20.48023120874561\n",
      "Percentile Error: [-47.901  34.606]\n"
     ]
    }
   ],
   "source": [
    "from sklearn.metrics import r2_score\n",
    "err = y_pred - y_test\n",
    "r_square = mlt_model.score(x_train, y_train)\n",
    "q_square = mlt_model.score(x_test, y_test)\n",
    "r2_score = r2_score(y_test, y_pred)\n",
    "meanAbErr = metrics.mean_absolute_error(y_test, y_pred)\n",
    "meanSqErr = metrics.mean_squared_error(y_test, y_pred)\n",
    "rootMeanSqErr = np.sqrt(metrics.mean_squared_error(y_test, y_pred))\n",
    "perCenTileErr = np.percentile(err, [2.5, 97.5])\n",
    "print('R squared: {:.2f}'.format(r_square))\n",
    "print('Residuals:', err)\n",
    "print('Q squared: {:.2f}'.format(q_square))\n",
    "print('R2 score:', r2_score)\n",
    "print('Mean Absolute Error:', meanAbErr)\n",
    "print('Mean Square Error:', meanSqErr)\n",
    "print('Root Mean Square Error:', rootMeanSqErr)\n",
    "print('Percentile Error:', perCenTileErr)"
   ]
  },
  {
   "cell_type": "markdown",
   "id": "1aa231bb-00bb-41c9-8848-db22820ffa8c",
   "metadata": {},
   "source": [
    "# LGA"
   ]
  },
  {
   "cell_type": "code",
   "execution_count": 496,
   "id": "98cf9b5f-5d8e-4c37-8914-7dc4e1de431c",
   "metadata": {},
   "outputs": [
    {
     "name": "stdout",
     "output_type": "stream",
     "text": [
      "(104662, 2)\n",
      "(104662,)\n",
      "(83729, 2) (83729,)\n",
      "(20933, 2) (20933,)\n"
     ]
    }
   ],
   "source": [
    "N_TRAIN_LGA = int(lga.shape[0]*.8)\n",
    "X = lga[:,[0,2]]\n",
    "Y = lga[:,1]\n",
    "print(X.shape)\n",
    "print(Y.shape)\n",
    "\n",
    "x_train, y_train = X[0:N_TRAIN_LGA], Y[0:N_TRAIN_LGA] \n",
    "print(x_train.shape, y_train.shape)\n",
    "\n",
    "x_test, y_test = X[N_TRAIN_LGA:], Y[N_TRAIN_LGA:] \n",
    "print(x_test.shape, y_test.shape)"
   ]
  },
  {
   "cell_type": "code",
   "execution_count": 497,
   "id": "fdba609a-e1b7-4018-b0c4-dc028ed82e47",
   "metadata": {},
   "outputs": [],
   "source": [
    "mlt_model_lga = LinearRegression().fit(x_train, y_train)"
   ]
  },
  {
   "cell_type": "code",
   "execution_count": 498,
   "id": "c51c8846-d2c8-4517-a05a-e074b56f587a",
   "metadata": {},
   "outputs": [
    {
     "name": "stdout",
     "output_type": "stream",
     "text": [
      "-4.159803073698711\n",
      "Prediction for test set: [-4.16  -0.519  3.496 ... -3.82  -2.958 -2.988]\n"
     ]
    }
   ],
   "source": [
    "y_pred = mlt_model_lga.predict([x_test[0]]).squeeze()\n",
    "print(y_pred)\n",
    "y_pred = mlt_model_lga.predict(x_test)\n",
    "print(\"Prediction for test set: {}\".format(y_pred))"
   ]
  },
  {
   "cell_type": "code",
   "execution_count": 499,
   "id": "e7d64802-ae32-48d7-b401-e98628a4a403",
   "metadata": {},
   "outputs": [
    {
     "name": "stdout",
     "output_type": "stream",
     "text": [
      "18.20633856030816\n",
      "-0.0619003103889848\n"
     ]
    }
   ],
   "source": [
    "# Predict an arrival delay of flight with 24 minutes departure delay and distance 1500 miles from LGA\n",
    "st_flight = mlt_model_lga.predict([np.array([24, 1500])]).squeeze()\n",
    "print(st_flight)\n",
    "# Predict an arrival delay of flight with 5 minutes departure delay and distance 1250 miles from LGA\n",
    "nd_flight = mlt_model_lga.predict([np.array([5, 1250])]).squeeze()\n",
    "print(nd_flight)"
   ]
  },
  {
   "cell_type": "code",
   "execution_count": 500,
   "id": "bcfa23db-cf83-4ca3-ba90-38b34bd91e84",
   "metadata": {},
   "outputs": [
    {
     "name": "stdout",
     "output_type": "stream",
     "text": [
      "R squared: 0.82\n",
      "Residuals: [-28.16    3.481 -52.504 ...  -3.82   -2.958  -2.988]\n",
      "Q squared: 0.84\n",
      "R2 score: 0.836434264079926\n",
      "Mean Absolute Error: 13.31384357860381\n",
      "Mean Square Error: 329.8553709382175\n",
      "Root Mean Square Error: 18.16192090441475\n",
      "Percentile Error: [-37.745  30.597]\n"
     ]
    }
   ],
   "source": [
    "from sklearn.metrics import r2_score\n",
    "err = y_pred - y_test\n",
    "r_square = mlt_model_lga.score(x_train, y_train)\n",
    "q_square = mlt_model_lga.score(x_test, y_test)\n",
    "r2_score = r2_score(y_test, y_pred)\n",
    "meanAbErr = metrics.mean_absolute_error(y_test, y_pred)\n",
    "meanSqErr = metrics.mean_squared_error(y_test, y_pred)\n",
    "rootMeanSqErr = np.sqrt(metrics.mean_squared_error(y_test, y_pred))\n",
    "perCenTileErr = np.percentile(err, [2.5, 97.5])\n",
    "print('R squared: {:.2f}'.format(r_square))\n",
    "print('Residuals:', err)\n",
    "print('Q squared: {:.2f}'.format(q_square))\n",
    "print('R2 score:', r2_score)\n",
    "print('Mean Absolute Error:', meanAbErr)\n",
    "print('Mean Square Error:', meanSqErr)\n",
    "print('Root Mean Square Error:', rootMeanSqErr)\n",
    "print('Percentile Error:', perCenTileErr)"
   ]
  },
  {
   "cell_type": "markdown",
   "id": "031fdb04-e76e-46c2-ba1b-1be724f89a0b",
   "metadata": {},
   "source": [
    "# EWR"
   ]
  },
  {
   "cell_type": "code",
   "execution_count": 501,
   "id": "325156ad-2407-4284-9819-d113456ca95d",
   "metadata": {},
   "outputs": [
    {
     "name": "stdout",
     "output_type": "stream",
     "text": [
      "(120835, 2)\n",
      "(120835,)\n",
      "(96668, 2) (96668,)\n",
      "(24167, 2) (24167,)\n"
     ]
    }
   ],
   "source": [
    "N_TRAIN_EWR = int(ewr.shape[0]*.8)\n",
    "X = ewr[:,[0,2]]\n",
    "Y = ewr[:,1]\n",
    "print(X.shape)\n",
    "print(Y.shape)\n",
    "\n",
    "x_train, y_train = X[0:N_TRAIN_EWR], Y[0:N_TRAIN_EWR] \n",
    "print(x_train.shape, y_train.shape)\n",
    "\n",
    "x_test, y_test = X[N_TRAIN_EWR:], Y[N_TRAIN_EWR:] \n",
    "print(x_test.shape, y_test.shape)"
   ]
  },
  {
   "cell_type": "code",
   "execution_count": 502,
   "id": "b77619ec-a8b9-4520-8be2-d25070141eb3",
   "metadata": {},
   "outputs": [],
   "source": [
    "mlt_model_ewr = LinearRegression().fit(x_train, y_train)"
   ]
  },
  {
   "cell_type": "code",
   "execution_count": 503,
   "id": "1c6207aa-41f1-4f3a-b54b-9ab7ef952758",
   "metadata": {},
   "outputs": [
    {
     "name": "stdout",
     "output_type": "stream",
     "text": [
      "-3.2620470348432438\n",
      "Prediction for test set: [ -3.262   5.121  10.842 ... -11.659  67.489  69.93 ]\n"
     ]
    }
   ],
   "source": [
    "y_pred = mlt_model_ewr.predict([x_test[0]]).squeeze()\n",
    "print(y_pred)\n",
    "y_pred = mlt_model_ewr.predict(x_test)\n",
    "print(\"Prediction for test set: {}\".format(y_pred))"
   ]
  },
  {
   "cell_type": "code",
   "execution_count": 504,
   "id": "735d7f6f-a30f-44cc-a6c6-03bc90d02654",
   "metadata": {},
   "outputs": [
    {
     "name": "stdout",
     "output_type": "stream",
     "text": [
      "17.214390319393342\n",
      "-1.039078401582926\n"
     ]
    }
   ],
   "source": [
    "# Predict an arrival delay of flight with 24 minutes departure delay and distance 1500 miles from EWR\n",
    "st_flight = mlt_model_ewr.predict([np.array([24, 1500])]).squeeze()\n",
    "print(st_flight)\n",
    "# Predict an arrival delay of flight with 5 minutes departure delay and distance 1250 miles from EWR\n",
    "nd_flight = mlt_model_ewr.predict([np.array([5, 1250])]).squeeze()\n",
    "print(nd_flight)"
   ]
  },
  {
   "cell_type": "code",
   "execution_count": 513,
   "id": "66264da8-c6c3-4015-9651-feda1ab9bbbc",
   "metadata": {},
   "outputs": [
    {
     "name": "stdout",
     "output_type": "stream",
     "text": [
      "R squared: 0.85\n",
      "Residuals: [ 15.738  24.121 -16.158 ...   4.341  10.489  27.93 ]\n",
      "Q squared: 0.84\n",
      "R2 score: 0.8405086672059061\n",
      "Mean Absolute Error: 12.597044983052074\n",
      "Mean Square Error: 312.9252206548584\n",
      "Root Mean Square Error: 17.689692497464684\n",
      "Percentile Error: [-37.872  28.796]\n"
     ]
    }
   ],
   "source": [
    "from sklearn.metrics import r2_score\n",
    "err = y_pred - y_test\n",
    "r_square = mlt_model_ewr.score(x_train, y_train)\n",
    "q_square = mlt_model_ewr.score(x_test, y_test)\n",
    "r2_score = r2_score(y_test, y_pred)\n",
    "meanAbErr = metrics.mean_absolute_error(y_test, y_pred)\n",
    "meanSqErr = metrics.mean_squared_error(y_test, y_pred)\n",
    "rootMeanSqErr = np.sqrt(metrics.mean_squared_error(y_test, y_pred))\n",
    "perCenTileErr = np.percentile(err, [2.5, 97.5])\n",
    "print('R squared: {:.2f}'.format(r_square))\n",
    "print('Residuals:', err)\n",
    "print('Q squared: {:.2f}'.format(q_square))\n",
    "print('R2 score:', r2_score)\n",
    "print('Mean Absolute Error:', meanAbErr)\n",
    "print('Mean Square Error:', meanSqErr)\n",
    "print('Root Mean Square Error:', rootMeanSqErr)\n",
    "print('Percentile Error:', perCenTileErr)"
   ]
  },
  {
   "cell_type": "markdown",
   "id": "3fea2420-2dd9-4062-a6fa-4e8bda73ab2d",
   "metadata": {},
   "source": [
    "Conclusion\n",
    "The accuracy of the MLR model based on each airport is close to the general model, but still, we need to remove the rows of missing values out of the data before computing. If the precision of the MLR of the model still exists, we need to analyze more features or change to a different method such as the logistic regression. "
   ]
  }
 ],
 "metadata": {
  "kernelspec": {
   "display_name": "Python 3 (ipykernel)",
   "language": "python",
   "name": "python3"
  },
  "language_info": {
   "codemirror_mode": {
    "name": "ipython",
    "version": 3
   },
   "file_extension": ".py",
   "mimetype": "text/x-python",
   "name": "python",
   "nbconvert_exporter": "python",
   "pygments_lexer": "ipython3",
   "version": "3.8.12"
  }
 },
 "nbformat": 4,
 "nbformat_minor": 5
}
