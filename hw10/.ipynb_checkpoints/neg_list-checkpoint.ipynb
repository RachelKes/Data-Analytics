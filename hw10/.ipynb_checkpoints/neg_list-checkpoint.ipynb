{
 "cells": [
  {
   "cell_type": "raw",
   "id": "8d4d9591-72e6-439e-9f7d-7dec69a75edf",
   "metadata": {},
   "source": [
    "!pip install seaborn"
   ]
  },
  {
   "cell_type": "code",
   "execution_count": 2,
   "id": "7de6c62f",
   "metadata": {},
   "outputs": [
    {
     "name": "stdout",
     "output_type": "stream",
     "text": [
      "Requirement already satisfied: squarify in c:\\users\\rache\\anaconda3\\lib\\site-packages (0.4.3)\n"
     ]
    }
   ],
   "source": [
    "!pip install squarify"
   ]
  },
  {
   "cell_type": "code",
   "execution_count": 3,
   "id": "e7d429c6",
   "metadata": {},
   "outputs": [],
   "source": [
    "import pandas as pd\n",
    "import numpy as np\n",
    "import seaborn as sns\n",
    "from matplotlib import pyplot as plt\n",
    "import ipywidgets as widgets\n",
    "import squarify"
   ]
  },
  {
   "cell_type": "code",
   "execution_count": 4,
   "id": "8dd89ec6",
   "metadata": {},
   "outputs": [
    {
     "ename": "FileNotFoundError",
     "evalue": "[Errno 2] No such file or directory: 'data/aisle_deparment_counts.csv'",
     "output_type": "error",
     "traceback": [
      "\u001b[1;31m---------------------------------------------------------------------------\u001b[0m",
      "\u001b[1;31mFileNotFoundError\u001b[0m                         Traceback (most recent call last)",
      "\u001b[1;32m~\\AppData\\Local\\Temp/ipykernel_10120/1081558203.py\u001b[0m in \u001b[0;36m<module>\u001b[1;34m\u001b[0m\n\u001b[1;32m----> 1\u001b[1;33m \u001b[0mdf\u001b[0m\u001b[1;33m=\u001b[0m\u001b[0mpd\u001b[0m\u001b[1;33m.\u001b[0m\u001b[0mread_csv\u001b[0m\u001b[1;33m(\u001b[0m\u001b[1;34m'data/aisle_deparment_counts.csv'\u001b[0m\u001b[1;33m)\u001b[0m\u001b[1;33m\u001b[0m\u001b[1;33m\u001b[0m\u001b[0m\n\u001b[0m\u001b[0;32m      2\u001b[0m \u001b[0mdf\u001b[0m\u001b[1;33m.\u001b[0m\u001b[0mhead\u001b[0m\u001b[1;33m(\u001b[0m\u001b[1;33m)\u001b[0m\u001b[1;33m\u001b[0m\u001b[1;33m\u001b[0m\u001b[0m\n",
      "\u001b[1;32m~\\anaconda3\\lib\\site-packages\\pandas\\util\\_decorators.py\u001b[0m in \u001b[0;36mwrapper\u001b[1;34m(*args, **kwargs)\u001b[0m\n\u001b[0;32m    309\u001b[0m                     \u001b[0mstacklevel\u001b[0m\u001b[1;33m=\u001b[0m\u001b[0mstacklevel\u001b[0m\u001b[1;33m,\u001b[0m\u001b[1;33m\u001b[0m\u001b[1;33m\u001b[0m\u001b[0m\n\u001b[0;32m    310\u001b[0m                 )\n\u001b[1;32m--> 311\u001b[1;33m             \u001b[1;32mreturn\u001b[0m \u001b[0mfunc\u001b[0m\u001b[1;33m(\u001b[0m\u001b[1;33m*\u001b[0m\u001b[0margs\u001b[0m\u001b[1;33m,\u001b[0m \u001b[1;33m**\u001b[0m\u001b[0mkwargs\u001b[0m\u001b[1;33m)\u001b[0m\u001b[1;33m\u001b[0m\u001b[1;33m\u001b[0m\u001b[0m\n\u001b[0m\u001b[0;32m    312\u001b[0m \u001b[1;33m\u001b[0m\u001b[0m\n\u001b[0;32m    313\u001b[0m         \u001b[1;32mreturn\u001b[0m \u001b[0mwrapper\u001b[0m\u001b[1;33m\u001b[0m\u001b[1;33m\u001b[0m\u001b[0m\n",
      "\u001b[1;32m~\\anaconda3\\lib\\site-packages\\pandas\\io\\parsers\\readers.py\u001b[0m in \u001b[0;36mread_csv\u001b[1;34m(filepath_or_buffer, sep, delimiter, header, names, index_col, usecols, squeeze, prefix, mangle_dupe_cols, dtype, engine, converters, true_values, false_values, skipinitialspace, skiprows, skipfooter, nrows, na_values, keep_default_na, na_filter, verbose, skip_blank_lines, parse_dates, infer_datetime_format, keep_date_col, date_parser, dayfirst, cache_dates, iterator, chunksize, compression, thousands, decimal, lineterminator, quotechar, quoting, doublequote, escapechar, comment, encoding, encoding_errors, dialect, error_bad_lines, warn_bad_lines, on_bad_lines, delim_whitespace, low_memory, memory_map, float_precision, storage_options)\u001b[0m\n\u001b[0;32m    584\u001b[0m     \u001b[0mkwds\u001b[0m\u001b[1;33m.\u001b[0m\u001b[0mupdate\u001b[0m\u001b[1;33m(\u001b[0m\u001b[0mkwds_defaults\u001b[0m\u001b[1;33m)\u001b[0m\u001b[1;33m\u001b[0m\u001b[1;33m\u001b[0m\u001b[0m\n\u001b[0;32m    585\u001b[0m \u001b[1;33m\u001b[0m\u001b[0m\n\u001b[1;32m--> 586\u001b[1;33m     \u001b[1;32mreturn\u001b[0m \u001b[0m_read\u001b[0m\u001b[1;33m(\u001b[0m\u001b[0mfilepath_or_buffer\u001b[0m\u001b[1;33m,\u001b[0m \u001b[0mkwds\u001b[0m\u001b[1;33m)\u001b[0m\u001b[1;33m\u001b[0m\u001b[1;33m\u001b[0m\u001b[0m\n\u001b[0m\u001b[0;32m    587\u001b[0m \u001b[1;33m\u001b[0m\u001b[0m\n\u001b[0;32m    588\u001b[0m \u001b[1;33m\u001b[0m\u001b[0m\n",
      "\u001b[1;32m~\\anaconda3\\lib\\site-packages\\pandas\\io\\parsers\\readers.py\u001b[0m in \u001b[0;36m_read\u001b[1;34m(filepath_or_buffer, kwds)\u001b[0m\n\u001b[0;32m    480\u001b[0m \u001b[1;33m\u001b[0m\u001b[0m\n\u001b[0;32m    481\u001b[0m     \u001b[1;31m# Create the parser.\u001b[0m\u001b[1;33m\u001b[0m\u001b[1;33m\u001b[0m\u001b[1;33m\u001b[0m\u001b[0m\n\u001b[1;32m--> 482\u001b[1;33m     \u001b[0mparser\u001b[0m \u001b[1;33m=\u001b[0m \u001b[0mTextFileReader\u001b[0m\u001b[1;33m(\u001b[0m\u001b[0mfilepath_or_buffer\u001b[0m\u001b[1;33m,\u001b[0m \u001b[1;33m**\u001b[0m\u001b[0mkwds\u001b[0m\u001b[1;33m)\u001b[0m\u001b[1;33m\u001b[0m\u001b[1;33m\u001b[0m\u001b[0m\n\u001b[0m\u001b[0;32m    483\u001b[0m \u001b[1;33m\u001b[0m\u001b[0m\n\u001b[0;32m    484\u001b[0m     \u001b[1;32mif\u001b[0m \u001b[0mchunksize\u001b[0m \u001b[1;32mor\u001b[0m \u001b[0miterator\u001b[0m\u001b[1;33m:\u001b[0m\u001b[1;33m\u001b[0m\u001b[1;33m\u001b[0m\u001b[0m\n",
      "\u001b[1;32m~\\anaconda3\\lib\\site-packages\\pandas\\io\\parsers\\readers.py\u001b[0m in \u001b[0;36m__init__\u001b[1;34m(self, f, engine, **kwds)\u001b[0m\n\u001b[0;32m    809\u001b[0m             \u001b[0mself\u001b[0m\u001b[1;33m.\u001b[0m\u001b[0moptions\u001b[0m\u001b[1;33m[\u001b[0m\u001b[1;34m\"has_index_names\"\u001b[0m\u001b[1;33m]\u001b[0m \u001b[1;33m=\u001b[0m \u001b[0mkwds\u001b[0m\u001b[1;33m[\u001b[0m\u001b[1;34m\"has_index_names\"\u001b[0m\u001b[1;33m]\u001b[0m\u001b[1;33m\u001b[0m\u001b[1;33m\u001b[0m\u001b[0m\n\u001b[0;32m    810\u001b[0m \u001b[1;33m\u001b[0m\u001b[0m\n\u001b[1;32m--> 811\u001b[1;33m         \u001b[0mself\u001b[0m\u001b[1;33m.\u001b[0m\u001b[0m_engine\u001b[0m \u001b[1;33m=\u001b[0m \u001b[0mself\u001b[0m\u001b[1;33m.\u001b[0m\u001b[0m_make_engine\u001b[0m\u001b[1;33m(\u001b[0m\u001b[0mself\u001b[0m\u001b[1;33m.\u001b[0m\u001b[0mengine\u001b[0m\u001b[1;33m)\u001b[0m\u001b[1;33m\u001b[0m\u001b[1;33m\u001b[0m\u001b[0m\n\u001b[0m\u001b[0;32m    812\u001b[0m \u001b[1;33m\u001b[0m\u001b[0m\n\u001b[0;32m    813\u001b[0m     \u001b[1;32mdef\u001b[0m \u001b[0mclose\u001b[0m\u001b[1;33m(\u001b[0m\u001b[0mself\u001b[0m\u001b[1;33m)\u001b[0m\u001b[1;33m:\u001b[0m\u001b[1;33m\u001b[0m\u001b[1;33m\u001b[0m\u001b[0m\n",
      "\u001b[1;32m~\\anaconda3\\lib\\site-packages\\pandas\\io\\parsers\\readers.py\u001b[0m in \u001b[0;36m_make_engine\u001b[1;34m(self, engine)\u001b[0m\n\u001b[0;32m   1038\u001b[0m             )\n\u001b[0;32m   1039\u001b[0m         \u001b[1;31m# error: Too many arguments for \"ParserBase\"\u001b[0m\u001b[1;33m\u001b[0m\u001b[1;33m\u001b[0m\u001b[1;33m\u001b[0m\u001b[0m\n\u001b[1;32m-> 1040\u001b[1;33m         \u001b[1;32mreturn\u001b[0m \u001b[0mmapping\u001b[0m\u001b[1;33m[\u001b[0m\u001b[0mengine\u001b[0m\u001b[1;33m]\u001b[0m\u001b[1;33m(\u001b[0m\u001b[0mself\u001b[0m\u001b[1;33m.\u001b[0m\u001b[0mf\u001b[0m\u001b[1;33m,\u001b[0m \u001b[1;33m**\u001b[0m\u001b[0mself\u001b[0m\u001b[1;33m.\u001b[0m\u001b[0moptions\u001b[0m\u001b[1;33m)\u001b[0m  \u001b[1;31m# type: ignore[call-arg]\u001b[0m\u001b[1;33m\u001b[0m\u001b[1;33m\u001b[0m\u001b[0m\n\u001b[0m\u001b[0;32m   1041\u001b[0m \u001b[1;33m\u001b[0m\u001b[0m\n\u001b[0;32m   1042\u001b[0m     \u001b[1;32mdef\u001b[0m \u001b[0m_failover_to_python\u001b[0m\u001b[1;33m(\u001b[0m\u001b[0mself\u001b[0m\u001b[1;33m)\u001b[0m\u001b[1;33m:\u001b[0m\u001b[1;33m\u001b[0m\u001b[1;33m\u001b[0m\u001b[0m\n",
      "\u001b[1;32m~\\anaconda3\\lib\\site-packages\\pandas\\io\\parsers\\c_parser_wrapper.py\u001b[0m in \u001b[0;36m__init__\u001b[1;34m(self, src, **kwds)\u001b[0m\n\u001b[0;32m     49\u001b[0m \u001b[1;33m\u001b[0m\u001b[0m\n\u001b[0;32m     50\u001b[0m         \u001b[1;31m# open handles\u001b[0m\u001b[1;33m\u001b[0m\u001b[1;33m\u001b[0m\u001b[1;33m\u001b[0m\u001b[0m\n\u001b[1;32m---> 51\u001b[1;33m         \u001b[0mself\u001b[0m\u001b[1;33m.\u001b[0m\u001b[0m_open_handles\u001b[0m\u001b[1;33m(\u001b[0m\u001b[0msrc\u001b[0m\u001b[1;33m,\u001b[0m \u001b[0mkwds\u001b[0m\u001b[1;33m)\u001b[0m\u001b[1;33m\u001b[0m\u001b[1;33m\u001b[0m\u001b[0m\n\u001b[0m\u001b[0;32m     52\u001b[0m         \u001b[1;32massert\u001b[0m \u001b[0mself\u001b[0m\u001b[1;33m.\u001b[0m\u001b[0mhandles\u001b[0m \u001b[1;32mis\u001b[0m \u001b[1;32mnot\u001b[0m \u001b[1;32mNone\u001b[0m\u001b[1;33m\u001b[0m\u001b[1;33m\u001b[0m\u001b[0m\n\u001b[0;32m     53\u001b[0m \u001b[1;33m\u001b[0m\u001b[0m\n",
      "\u001b[1;32m~\\anaconda3\\lib\\site-packages\\pandas\\io\\parsers\\base_parser.py\u001b[0m in \u001b[0;36m_open_handles\u001b[1;34m(self, src, kwds)\u001b[0m\n\u001b[0;32m    220\u001b[0m         \u001b[0mLet\u001b[0m \u001b[0mthe\u001b[0m \u001b[0mreaders\u001b[0m \u001b[0mopen\u001b[0m \u001b[0mIOHandles\u001b[0m \u001b[0mafter\u001b[0m \u001b[0mthey\u001b[0m \u001b[0mare\u001b[0m \u001b[0mdone\u001b[0m \u001b[1;32mwith\u001b[0m \u001b[0mtheir\u001b[0m \u001b[0mpotential\u001b[0m \u001b[0mraises\u001b[0m\u001b[1;33m.\u001b[0m\u001b[1;33m\u001b[0m\u001b[1;33m\u001b[0m\u001b[0m\n\u001b[0;32m    221\u001b[0m         \"\"\"\n\u001b[1;32m--> 222\u001b[1;33m         self.handles = get_handle(\n\u001b[0m\u001b[0;32m    223\u001b[0m             \u001b[0msrc\u001b[0m\u001b[1;33m,\u001b[0m\u001b[1;33m\u001b[0m\u001b[1;33m\u001b[0m\u001b[0m\n\u001b[0;32m    224\u001b[0m             \u001b[1;34m\"r\"\u001b[0m\u001b[1;33m,\u001b[0m\u001b[1;33m\u001b[0m\u001b[1;33m\u001b[0m\u001b[0m\n",
      "\u001b[1;32m~\\anaconda3\\lib\\site-packages\\pandas\\io\\common.py\u001b[0m in \u001b[0;36mget_handle\u001b[1;34m(path_or_buf, mode, encoding, compression, memory_map, is_text, errors, storage_options)\u001b[0m\n\u001b[0;32m    700\u001b[0m         \u001b[1;32mif\u001b[0m \u001b[0mioargs\u001b[0m\u001b[1;33m.\u001b[0m\u001b[0mencoding\u001b[0m \u001b[1;32mand\u001b[0m \u001b[1;34m\"b\"\u001b[0m \u001b[1;32mnot\u001b[0m \u001b[1;32min\u001b[0m \u001b[0mioargs\u001b[0m\u001b[1;33m.\u001b[0m\u001b[0mmode\u001b[0m\u001b[1;33m:\u001b[0m\u001b[1;33m\u001b[0m\u001b[1;33m\u001b[0m\u001b[0m\n\u001b[0;32m    701\u001b[0m             \u001b[1;31m# Encoding\u001b[0m\u001b[1;33m\u001b[0m\u001b[1;33m\u001b[0m\u001b[1;33m\u001b[0m\u001b[0m\n\u001b[1;32m--> 702\u001b[1;33m             handle = open(\n\u001b[0m\u001b[0;32m    703\u001b[0m                 \u001b[0mhandle\u001b[0m\u001b[1;33m,\u001b[0m\u001b[1;33m\u001b[0m\u001b[1;33m\u001b[0m\u001b[0m\n\u001b[0;32m    704\u001b[0m                 \u001b[0mioargs\u001b[0m\u001b[1;33m.\u001b[0m\u001b[0mmode\u001b[0m\u001b[1;33m,\u001b[0m\u001b[1;33m\u001b[0m\u001b[1;33m\u001b[0m\u001b[0m\n",
      "\u001b[1;31mFileNotFoundError\u001b[0m: [Errno 2] No such file or directory: 'data/aisle_deparment_counts.csv'"
     ]
    }
   ],
   "source": [
    "df=pd.read_csv('aisle_deparment_counts.csv')\n",
    "df.head()"
   ]
  },
  {
   "cell_type": "code",
   "execution_count": null,
   "id": "13550365",
   "metadata": {},
   "outputs": [],
   "source": [
    "df.info()"
   ]
  },
  {
   "cell_type": "code",
   "execution_count": null,
   "id": "e456b25a",
   "metadata": {},
   "outputs": [],
   "source": [
    "# săp sếp theo các sản phẩm đã bán dc từ lớn đến nhỏ\n",
    "df= df.sort_values(by='counts', ascending=False)\n",
    "df.reset_index(drop=True, inplace=True)\n",
    "df.head()"
   ]
  },
  {
   "cell_type": "code",
   "execution_count": null,
   "id": "8ab45829",
   "metadata": {},
   "outputs": [],
   "source": [
    "N =20\n",
    "df1 = df[['counts','aisle']][0:N]\n",
    "other_count = df['counts'][N:].sum()\n",
    "print(other_count)\n",
    "other = pd.DataFrame({'counts': [other_count], 'aisle': ['others']})\n",
    "df1= df1.append(other, ignore_index=True) # thêm dòng cuối other vào\n",
    "df1\n"
   ]
  },
  {
   "cell_type": "code",
   "execution_count": null,
   "id": "1c330360",
   "metadata": {},
   "outputs": [],
   "source": [
    "\n",
    "@widgets.interact(N=(10,20,1))\n",
    "\n",
    "def vetreemap(N =10):\n",
    "    df2 = df[['counts','department']][0:N]\n",
    "    other = pd.DataFrame({'counts':[df['counts'][N:].sum()], 'aise':['other']})\n",
    "    df2=df2.append(other, ignore_index=True)\n",
    "    fig, ax=plt.subplots(figsize=(10,8))\n",
    "    squarify.plot(sizes=df1['counts'], label=df1['aisle'])\n",
    "    plt.axis('off')\n",
    "    plt.show()\n",
    "    plt.close('all')\n",
    "\n"
   ]
  },
  {
   "cell_type": "markdown",
   "id": "9787a4d6",
   "metadata": {},
   "source": [
    "### Check lại giúp mình chỗ này nha"
   ]
  },
  {
   "cell_type": "code",
   "execution_count": null,
   "id": "98854fd6",
   "metadata": {},
   "outputs": [],
   "source": [
    "from ipywidgets.widgets.interaction import show_inline_matplotlib_plots"
   ]
  },
  {
   "cell_type": "code",
   "execution_count": null,
   "id": "a5b148de",
   "metadata": {},
   "outputs": [],
   "source": [
    "from IPython.display import display, clear_output"
   ]
  },
  {
   "cell_type": "code",
   "execution_count": null,
   "id": "3d0b3ac3",
   "metadata": {},
   "outputs": [],
   "source": [
    "%matplotlib inline"
   ]
  },
  {
   "cell_type": "code",
   "execution_count": null,
   "id": "5679ba76",
   "metadata": {},
   "outputs": [],
   "source": [
    "## làm sao để sử dụng button nhấn vẽ lại sau khi thay đổi N\n",
    "\n",
    "w0 = widgets.IntSlider( value=10, min=10, max=20, step=1)\n",
    "wButton = widgets.Button(description='Chọn',\n",
    "                         button_style='info',\n",
    "                         tooltip='Bấm vào đây',\n",
    "                         icon='check' # \n",
    "              )\n",
    "display(w0)\n",
    "display(wButton)\n",
    "def vetreemap(z):\n",
    "    clear_output() # xoá treemap plot đã vẽ trước đó (nếu có)\n",
    "    global w0 # để access giá trị của slider\n",
    "    N = w0.value # access giá trị của slider\n",
    "    display(w0) # hàm clear output xoá luôn slider và button, nên phải call display lại\n",
    "    display(wButton)\n",
    "    df2 = df[['counts','department']][0:N]\n",
    "    other = pd.DataFrame({'counts':[df['counts'][N:].sum()], 'aise':['other']})\n",
    "    df2=df2.append(other, ignore_index=True)\n",
    "    fig, ax=plt.subplots(figsize=(10,8))\n",
    "    ax = squarify.plot(sizes=df1['counts'], label=df1['aisle'], ax=ax)\n",
    "    plt.axis('off')\n",
    "    plt.show()\n",
    "    plt.close('all')\n",
    "  \n",
    "\n",
    "    \n",
    "# wButton.on_click(vetreemap)\n",
    "wkq = widgets.interactive(vetreemap, z=0) # z chỉ là biến vô nghĩa để thoã mãn interface của interactive,\n",
    "                                        # nó bắt phải có 1 biến int như vậy\n",
    "wButton.on_click(vetreemap)  \n",
    "# display(wkq)"
   ]
  },
  {
   "cell_type": "code",
   "execution_count": null,
   "id": "c630f90d",
   "metadata": {},
   "outputs": [],
   "source": [
    "# vẽ treemap cho các department\n",
    "df.head()"
   ]
  },
  {
   "cell_type": "code",
   "execution_count": null,
   "id": "1dcde401",
   "metadata": {},
   "outputs": [],
   "source": [
    "df_d = df[['department','counts']].groupby('department').sum()\n",
    "df_d = df_d.sort_values('counts', ascending=False)\n",
    "df_d.reset_index(inplace=True)\n",
    "df_d"
   ]
  },
  {
   "cell_type": "code",
   "execution_count": null,
   "id": "afd6bdf8",
   "metadata": {},
   "outputs": [],
   "source": [
    "@widgets.interact(N=(10,20,2))\n",
    "def vetreemap1(N=20):\n",
    "    df2=df_d[['counts','department']][0:N]\n",
    "  \n",
    "    other1 = pd.DataFrame({'counts':[df_d['counts'][N:].sum()], 'department':['other'] })\n",
    "    df2=df2.append(other1, ignore_index =True)\n",
    "    \n",
    "    fig, ax=plt.subplots(figsize=(10,8))\n",
    "    squarify.plot(sizes=df2['counts'], label=df2['department'])\n",
    "    plt.axis('off')\n",
    "    plt.show()\n",
    "    plt.close('all')\n",
    "    \n"
   ]
  },
  {
   "cell_type": "code",
   "execution_count": null,
   "id": "c440bc61",
   "metadata": {},
   "outputs": [],
   "source": [
    "cmaps =['tab20', 'tab20b', 'viridis', 'YlOrRd', 'prism']\n",
    "@widgets.interact(N=(10,20,2), ColorMap=cmaps)\n",
    "def vetreemap1(N=20,ColorMap=None ):\n",
    "    df2=df_d[['counts','department']][0:N]\n",
    "  \n",
    "    other1 = pd.DataFrame({'counts':[df_d['counts'][N:].sum()], 'department':['other'] })\n",
    "    df2=df2.append(other1, ignore_index =True)\n",
    "    \n",
    "    if ColorMap:\n",
    "        cmap=plt.get_camp(ColorMap)\n",
    "        colors = [cmap(v) for v in np.linspace(0,1,N)][::-1]\n",
    "    else: colors =None\n",
    "    \n",
    "    fig, ax=plt.subplots(figsize=(10,8))\n",
    "    squarify.plot(sizes=df2['counts'], label=df2['department'])\n",
    "    plt.axis('off')\n",
    "    plt.show()\n",
    "    plt.close('all')\n",
    "    \n"
   ]
  },
  {
   "cell_type": "markdown",
   "id": "72205e0a",
   "metadata": {},
   "source": [
    "### vẽ biểu đồ theo từng department"
   ]
  },
  {
   "cell_type": "code",
   "execution_count": null,
   "id": "80ed469d",
   "metadata": {},
   "outputs": [],
   "source": [
    "df.head()"
   ]
  },
  {
   "cell_type": "code",
   "execution_count": null,
   "id": "8460a652",
   "metadata": {},
   "outputs": [],
   "source": [
    "df3= df[['department','aisle','counts']].groupby(['department','aisle']).sum()\n",
    "df3"
   ]
  },
  {
   "cell_type": "code",
   "execution_count": null,
   "id": "49839d42",
   "metadata": {},
   "outputs": [],
   "source": [
    "df3.loc['alcohol']"
   ]
  },
  {
   "cell_type": "code",
   "execution_count": null,
   "id": "c841660d",
   "metadata": {},
   "outputs": [],
   "source": [
    "# chỉ chọn 10 department bán dc nhiều san phẩm nhất\n",
    "dep_list = list(df_d['department'].iloc[0:10].values)\n",
    "print(dep_list)"
   ]
  },
  {
   "cell_type": "code",
   "execution_count": null,
   "id": "7402ae04",
   "metadata": {},
   "outputs": [],
   "source": [
    "dep_list = list(df_d['department'].iloc[0:10].values)\n",
    "\n",
    "@widgets.interact(dep_name=dep_list)\n",
    "\n",
    "def ve(dep_name):\n",
    "    new_df = df3.loc[dep_name].reset_index()\n",
    "    \n",
    "    fig = plt.figure(figsize=(8,5))\n",
    "    ax = sns.barplot(data=new_df, x=new_df.index, y='counts', \n",
    "                palette='bright',\n",
    "               )\n",
    "    ax.set_xticklabels(new_df['aisle'], rotation=-60, ha='left')\n",
    "    plt.title(dep_name)\n",
    "    plt.show()\n",
    "    plt.close('all')\n",
    "    "
   ]
  },
  {
   "cell_type": "code",
   "execution_count": null,
   "id": "9bbb1756",
   "metadata": {},
   "outputs": [],
   "source": []
  }
 ],
 "metadata": {
  "kernelspec": {
   "display_name": "Python 3 (ipykernel)",
   "language": "python",
   "name": "python3"
  },
  "language_info": {
   "codemirror_mode": {
    "name": "ipython",
    "version": 3
   },
   "file_extension": ".py",
   "mimetype": "text/x-python",
   "name": "python",
   "nbconvert_exporter": "python",
   "pygments_lexer": "ipython3",
   "version": "3.8.12"
  }
 },
 "nbformat": 4,
 "nbformat_minor": 5
}
