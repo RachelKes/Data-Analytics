{
 "cells": [
  {
   "cell_type": "code",
   "execution_count": null,
   "id": "30ca538b-27e5-4b37-b5a0-af383d2d2615",
   "metadata": {},
   "outputs": [],
   "source": [
    "%matplotlib inline\n",
    "import numpy as np\n",
    "from matplotlib import pyplot as plt\n",
    "from scipy import stats\n",
    "np.set_printoptions(precision=3, threshold=20, suppress=True)\n",
    "import csv"
   ]
  },
  {
   "cell_type": "code",
   "execution_count": null,
   "id": "48e5f579-ba0d-4fae-958a-d50cc2182955",
   "metadata": {},
   "outputs": [],
   "source": [
    "a = np.array([['NA','NA','764','JFK'],['NA','212','NA','LGA'],['121','NA','431','EWR']])\n",
    "print(a)\n",
    "print(a.shape)\n",
    "print(type(a[:]))\n",
    "print(type(a[:,1]))\n",
    "print(a[:,:3])"
   ]
  },
  {
   "cell_type": "code",
   "execution_count": null,
   "id": "638ea20a-7c02-4705-b868-7ec90f2c8fb5",
   "metadata": {},
   "outputs": [],
   "source": [
    "b = np.where(a ==\"NA\", 0, a) # replace all 0 to \"NA\" values in a\n",
    "print(b)"
   ]
  },
  {
   "cell_type": "code",
   "execution_count": null,
   "id": "dd79419a-e307-48d9-9327-b7591faaa327",
   "metadata": {},
   "outputs": [],
   "source": [
    "c = b[b[:,3] == 'JFK']\n",
    "print(c)\n",
    "print(c[:,:3])"
   ]
  },
  {
   "cell_type": "code",
   "execution_count": null,
   "id": "18b1c92f-d486-4a1c-b8ef-45cfb3e0ba88",
   "metadata": {},
   "outputs": [],
   "source": [
    "d = np.array(a[:,0:3] == \"NA\") # check \"NA\" value in the array from columns 0-2\n",
    "print(d)\n",
    "print(a[:,:3])"
   ]
  },
  {
   "cell_type": "code",
   "execution_count": null,
   "id": "c0584914-cd1c-4e40-ae9b-07eeff437e04",
   "metadata": {},
   "outputs": [],
   "source": [
    "# if np.array(a[:,3]) == \"JFK\": print(np.array(a[:,0:3] ==\"NA\")) \n",
    "jfk_nan_bool = np.array(a[:,3]) == \"JFK\"\n",
    "print(jfk)\n",
    "jfk_bool_value = (a[jfk_nan_bool]).squeeze()\n",
    "print(jfk_bool_value[:3])\n",
    "\n",
    "jfk_nan = np.array(a[:,0:3] ==\"NA\")\n",
    "print(jfk_nan)\n",
    "print(a[jfk_nan.any()])\n",
    "print(jfk_nan.all())\n",
    "f = np.where(jfk_nan)\n",
    "print(f)"
   ]
  },
  {
   "cell_type": "code",
   "execution_count": null,
   "id": "02e0bbcc-ec6c-4590-b6bf-54432fc58905",
   "metadata": {},
   "outputs": [],
   "source": [
    "a = np.char.isnumeric(flight_data.astype('unicode'))\n",
    "print(a)\n",
    "\n",
    "b = np.asarray(a, dtype=bool)\n",
    "print(b)"
   ]
  },
  {
   "cell_type": "code",
   "execution_count": null,
   "id": "bcc5430e-308d-431f-a71b-c0a49fb286cf",
   "metadata": {},
   "outputs": [],
   "source": [
    "flight_data = np.where(flights == \"NA\", np.nan, flights)\n",
    "print(flight_data)"
   ]
  },
  {
   "cell_type": "markdown",
   "id": "e4280d0a-50a0-4090-86f8-2d3b85334f5c",
   "metadata": {},
   "source": [
    "# Evaluating the Model"
   ]
  },
  {
   "cell_type": "code",
   "execution_count": null,
   "id": "2bba6162-52b0-4dd7-8d17-010f9aea82b2",
   "metadata": {},
   "outputs": [],
   "source": [
    "#Model Evaluation\n",
    "from sklearn import metrics\n",
    "meanAbErr = metrics.mean_absolute_error(y_test, y_pred_mlr)\n",
    "meanSqErr = metrics.mean_squared_error(y_test, y_pred_mlr)\n",
    "rootMeanSqErr = np.sqrt(metrics.mean_squared_error(y_test, y_pred_mlr))\n",
    "print('R squared: {:.2f}'.format(mlr.score(x,y)*100))\n",
    "print('Mean Absolute Error:', meanAbErr)\n",
    "print('Mean Square Error:', meanSqErr)\n",
    "print('Root Mean Square Error:', rootMeanSqErr)"
   ]
  },
  {
   "cell_type": "markdown",
   "id": "c2a4483e-7727-4ddd-abea-fed3659e7bbd",
   "metadata": {},
   "source": [
    "from sklearn import metrics: It provides metrics for evaluating the model.\n",
    "# R Squared: \n",
    "R Square is the coefficient of determination. It tells us how many points fall on the regression line. The value of R Square is 90.11, which indicates that 90.11% of the data fit the regression model.\n",
    "# Mean Absolute Error: \n",
    "Mean Absolute Error is the absolute difference between the actual or true values and the predicted values. The lower the value, the better is the model’s performance. A mean absolute error of 0 means that your model is a perfect predictor of the outputs. The mean absolute error obtained for this particular model is 1.227, which is pretty good as it is close to 0.\n",
    "# Mean Square Error: \n",
    "Mean Square Error is calculated by taking the average of the square of the difference between the original and predicted values of the data. The lower the value, the better is the model’s performance. The mean square error obtained for this particular model is 2.636, which is pretty good.\n",
    "# Root Mean Square Error: \n",
    "Root Mean Square Error is the standard deviation of the errors which occur when a prediction is made on a dataset. This is the same as Mean Squared Error, but the root of the value is considered while determining the accuracy of the model. The lower the value, the better is the model’s performance. The root mean square error obtained for this particular model is 1.623, which is pretty good."
   ]
  },
  {
   "cell_type": "markdown",
   "id": "d9d19c83-c04d-4ebe-8698-75ed12a07998",
   "metadata": {},
   "source": [
    "# Conclusion\n",
    "The Multiple Linear Regression model performs well as 90.11% of the data fit the regression model. Also, the mean absolute error, mean square error, and the root mean square error are less.\n",
    "https://medium.com/machine-learning-with-python/multiple-linear-regression-implementation-in-python-2de9b303fc0c\n",
    "https://github.com/Harshita0109b"
   ]
  },
  {
   "cell_type": "code",
   "execution_count": null,
   "id": "8ec09582-4cd1-4a31-ab0c-03754e5607e5",
   "metadata": {},
   "outputs": [],
   "source": []
  },
  {
   "cell_type": "markdown",
   "id": "c18e0236-fea2-454a-b59a-a81a274b7245",
   "metadata": {},
   "source": [
    "# MAE, MSE, RMSE, Coefficient of Determination, Adjusted R Squared — Which Metric is Better?\n",
    "# The objective of Linear Regression is to find a line that minimizes the prediction error of all the data points.\n",
    "The essential step in any machine learning model is to evaluate the accuracy of the model. The Mean Squared Error, Mean absolute error, Root Mean Squared Error, and R-Squared or Coefficient of determination metrics are used to evaluate the performance of the model in regression analysis.\n",
    "The Mean absolute error represents the average of the absolute difference between the actual and predicted values in the dataset. It measures the average of the residuals in the dataset.\n",
    "\n",
    "Mean Squared Error represents the average of the squared difference between the original and predicted values in the data set. It measures the variance of the residuals.\n",
    "\n",
    "Root Mean Squared Error is the square root of Mean Squared error. It measures the standard deviation of residuals.\n",
    "\n",
    "The coefficient of determination or R-squared represents the proportion of the variance in the dependent variable which is explained by the linear regression model. It is a scale-free score i.e. irrespective of the values being small or large, the value of R square will be less than one.\n",
    "\n",
    "Adjusted R squared is a modified version of R square, and it is adjusted for the number of independent variables in the model, and it will always be less than or equal to R².In the formula below n is the number of observations in the data and k is the number of the independent variables in the data.\n",
    "\n",
    "# Differences among these evaluation metrics\n",
    "Mean Squared Error(MSE) and Root Mean Square Error penalizes the large prediction errors vi-a-vis Mean Absolute Error (MAE). However, RMSE is widely used than MSE to evaluate the performance of the regression model with other random models as it has the same units as the dependent variable (Y-axis).\n",
    "\n",
    "MSE is a differentiable function that makes it easy to perform mathematical operations in comparison to a non-differentiable function like MAE. Therefore, in many models, RMSE is used as a default metric for calculating Loss Function despite being harder to interpret than MAE.\n",
    "\n",
    "MAE is more robust to data with outliers.\n",
    "The lower value of MAE, MSE, and RMSE implies higher accuracy of a regression model. However, a higher value of R square is considered desirable.\n",
    "\n",
    "R Squared & Adjusted R Squared are used for explaining how well the independent variables in the linear regression model explains the variability in the dependent variable. R Squared value always increases with the addition of the independent variables which might lead to the addition of the redundant variables in our model. However, the adjusted R-squared solves this problem.\n",
    "Adjusted R squared takes into account the number of predictor variables, and it is used to determine the number of independent variables in our model. The value of Adjusted R squared decreases if the increase in the R square by the additional variable isn’t significant enough.\n",
    "\n",
    "For comparing the accuracy among different linear regression models, RMSE is a better choice than R Squared.\n",
    "\n",
    "# Conclusion\n",
    "Therefore, if comparing the prediction accuracy among different linear regression (LR)models then RMSE is a better option as it is simple to calculate and differentiable. However, if your dataset has outliers then choose MAE over RMSE.\n",
    "Besides, the number of predictor variables in a linear regression model is determined by adjusted R squared, and choose RMSE over adjusted R squared if you care about evaluating prediction accuracy among different LR models."
   ]
  }
 ],
 "metadata": {
  "kernelspec": {
   "display_name": "Python 3 (ipykernel)",
   "language": "python",
   "name": "python3"
  },
  "language_info": {
   "codemirror_mode": {
    "name": "ipython",
    "version": 3
   },
   "file_extension": ".py",
   "mimetype": "text/x-python",
   "name": "python",
   "nbconvert_exporter": "python",
   "pygments_lexer": "ipython3",
   "version": "3.8.12"
  }
 },
 "nbformat": 4,
 "nbformat_minor": 5
}
