{
 "cells": [
  {
   "cell_type": "code",
   "execution_count": null,
   "id": "eaea81db-9485-40dc-b189-91b15ab763dd",
   "metadata": {},
   "outputs": [],
   "source": [
    "car_model = np.array([row[0] for row in list_row_2016]) #lấy dữ liệu Model thực hiện phân tích mô tả tần số/tần suất\n",
    "model_year = np.array([row[1] for row in list_row_2016],dtype=int) # lấy dữ liệu Register year phân tích tần số/tần suất,...\n",
    "transmission = np.array([row[3] for row in list_row_2016],dtype=str)\n",
    "fuel_type = np.array([row[5] for row in list_row_2016],dtype=str)\n",
    "mileage = np.array([row[4] for row in list_row_2016],dtype=float)\n",
    "car_price = np.array([row[2] for row in list_row_2016],dtype=float)\n",
    "mpg = np.array([row[7] for row in list_row_2016],dtype=float)\n",
    "engine_size = np.array([row[8] for row in list_row_2016],dtype=float)\n",
    "print(car_model.shape)\n",
    "print(model_year.shape)"
   ]
  },
  {
   "cell_type": "code",
   "execution_count": null,
   "id": "03346ee5-a12a-4e0a-8f1a-98b147317c45",
   "metadata": {},
   "outputs": [],
   "source": [
    "car_uniq = np.unique(car_model)\n",
    "fuel_uniq = np.unique(fuel_type)\n",
    "transmission_uniq = np.unique(transmission)\n",
    "year_uniq = np.unique(model_year)\n",
    "engine_uniq = np.unique(engine_size)\n",
    "\n",
    "print(car_uniq, car_name.size)\n",
    "print(fuel_uniq, fuel_uniq.size)\n",
    "print(transmission_uniq, transmission_uniq.size)\n",
    "print(year_uniq, year_uniq.size)\n",
    "print(engine_uniq, engine_uniq.size)\n"
   ]
  },
  {
   "cell_type": "markdown",
   "id": "dcdb0cb2-fc63-4add-857b-35c4ed509d6e",
   "metadata": {},
   "source": [
    "Used Merc data\n",
    "Car Models: 21 \n",
    "Fuel types: 4\n",
    "Transmission: 4 \n",
    "Model year: 2016 to 2020\n",
    "Engine size: 15 \n",
    "Price, Tax, Used Miles "
   ]
  },
  {
   "cell_type": "code",
   "execution_count": null,
   "id": "4fc24d0e-bf41-4e5d-8685-ace48eb2a081",
   "metadata": {},
   "outputs": [],
   "source": [
    "import pandas as pd\n",
    "import seaborn as sns\n",
    "data = pd.read_csv('merc.csv')\n",
    "data.head()\n",
    "\n",
    "data.columns\n",
    "\n",
    "data.describe()\n",
    "\n",
    "data.isnull().sum()\n",
    "sns.relplot(x='price', y='mileage', hue='year' ,data=data)\n",
    "data.head()\n",
    "train = data.drop(['price', 'year', 'mileage'], axis=1)\n",
    "test = data['price']\n",
    "\n",
    "import sklearn\n",
    "from sklearn.model_selection import train_test_split\n",
    "X_train, X_test, y_train, y_test = train_test_split(train, test, test_size = 0.2, random_state = 0)\n",
    "from sklearn.linear_model import LinearRegression\n",
    "regr = LinearRegression()\n",
    "regr.fit(X_train, y_train)\n",
    "pred = regr.predict(X_test)\n",
    "regr.score(X_test, y_test)\n"
   ]
  },
  {
   "cell_type": "markdown",
   "id": "2f62c051-b1d3-4180-bdb6-e7048f04f0f4",
   "metadata": {},
   "source": [
    "# The relationship between the X and y variables should be linear\n",
    "Errors (residuals) should be independent of each other\n",
    "Errors (residuals) should be normally distributed with a mean of 0\n",
    "Errors (residuals) should have equal variance (Homoscedasticity)"
   ]
  },
  {
   "cell_type": "markdown",
   "id": "32219554-548e-45a5-a352-9e353ac8f6db",
   "metadata": {
    "jp-MarkdownHeadingCollapsed": true,
    "tags": []
   },
   "source": [
    "# Linear Regression Outputs\n",
    "# Correlation coefficient (r)\n",
    "Correlation coefficient (r) describes a linear relationship between X and y variables. r can range from -1 to 1.\n",
    "r > 0 indicates a positive linear relationship between X and y variables. As one of the variable increases, the other variable also increases. r = 1 is a perfect positive linear relationship\n",
    "Similarly, r < 0 indicates a negative linear relationship between X and y variables. As one of the variable increases, the other variable decreases, and vice versa. r = -1 is perfect negative linear relationship\n",
    "r = 0 indicates, there is no linear relationship between the X and y variables"
   ]
  },
  {
   "cell_type": "markdown",
   "id": "7a144b44-b6df-42f0-8205-3f9c7a80b559",
   "metadata": {},
   "source": [
    "# Coefficient of determination (R-Squared or r-Squared)\n",
    "R-Squared (R2) is a square of correlation coefficient (r) and usually represented as percentages.\n",
    "R-Squared explains the variation in the y variable that is explained by independent variables in the fitted regression.\n",
    "Multiple correlation coefficient (R), which is the square root of the R-Squared, is used to assess the prediction quality of the y variable in multiple regression analysis. Its value range from 0 to 1.\n",
    "R-Squared can range from 0 to 1 (0 to 100%). R-squared = 1 (100%) indicates that the fitted regression line explains all the variability of Y variable around its mean."
   ]
  },
  {
   "cell_type": "markdown",
   "id": "76311d6f-ad58-4ad1-8196-ee8f8ddeb14f",
   "metadata": {},
   "source": [
    "# Residuals (regression error)\n",
    "Residuals or error in regression represents the distance of the observed data points from the predicted regression line\n",
    "residuals = actual y(yi) - predicted y(y^i)"
   ]
  },
  {
   "cell_type": "markdown",
   "id": "78b0ce27-aae7-4673-860a-b13fb2eed1e6",
   "metadata": {},
   "source": [
    "# Root Mean Square Error (RMSE)\n",
    "RMSE represents the standard deviation of the residuals. It gives an estimate of the spread of observed data points across the predicted regression line."
   ]
  },
  {
   "cell_type": "markdown",
   "id": "b2ab73fd-ec6f-48ae-95a2-11377f67e4e6",
   "metadata": {},
   "source": [
    "# Regression line\n",
    "The regression line with equation [y = 1.3360 + (0.3557*area) ], is helpful to predict the value of the native plant richness (ntv_rich) from the given value of the island area (area).\n",
    "Regression can be useful in predicting the native plant richness of any value within the range of the island area. It also predicts native plant richness from area outside the given range, but such extrapolation may not be useful.\n",
    "# Regression coefficients (slope) and constant (y-intercept)\n",
    "The regression coefficients or slope (0.3557) represent the change in the y per unit change in the X variable. It means the value of native plant richness increases by 0.3557 with each unit increase in island area.\n",
    "The y-intercept (1.3360) represents the value of y when the X variable has a value of 0. Here need to be cautious to interpret the y-intercept as sometimes the value (X=0) does not make any sense (e.g. island area, speed of the car, or height of the person). In such cases, the values within the range of X should be considered interpreting the y-intercept.\n",
    "The p values associated with the area is significant (p < 0.05). It suggests that the island area significantly influences the native plant richness.\n",
    "# ANOVA\n",
    "In regression, the ANOVA tests the null hypothesis that there is no relationship between the independent variable (X) and dependent (y) variable i.e it tests the null hypothesis that regression coefficient equal to zero (b=0).\n",
    "From ANOVA F test, the p value is significant (<0.05), which suggests that there is a significant relationship between native plant richness and island area. The independent variable (X) can reliably predict the dependent (y) variable.\n",
    "# Coefficient of determination (R-Squared and adjusted R-Squared)\n",
    "The coefficient of determination (R-Squared) is 0.828 (82.8%), which suggests that 82.8% of the variance in ntv_rich can be explained by area alone. Adjusted R-Squared is useful where there are multiple X variables in the model (how to interpret adjusted R-Squared)"
   ]
  },
  {
   "cell_type": "markdown",
   "id": "17f4a309-1577-4f32-8dc7-e690bca81e9c",
   "metadata": {},
   "source": [
    "https://www.reneshbedre.com/blog/linear-regression.html#coefficient-of-determination-r-squared-or-r-squared"
   ]
  },
  {
   "cell_type": "markdown",
   "id": "38657b72-7845-40f2-8caa-ebf02aeaf295",
   "metadata": {},
   "source": [
    "# Train/Test Data:\n",
    "80% for training, and 20% for testing.\n",
    "Train the model means create the model.\n",
    "Test the model means test the accuracy of the model."
   ]
  },
  {
   "cell_type": "markdown",
   "id": "e07a2ef5-1985-41ae-ac83-9aa611edfa0e",
   "metadata": {},
   "source": [
    "# R2\n",
    "what about the R-squared score? The R-squared score is a good indicator of how well my data set is fitting the model.\n",
    "It measures the relationship between the x axis and the y axis, and the value ranges from 0 to 1, \n",
    "where 0 means no relationship, and 1 means totally related."
   ]
  },
  {
   "cell_type": "markdown",
   "id": "fb16abc8-6203-462d-9e1e-881b711485be",
   "metadata": {},
   "source": [
    "# R² score\n",
    "R² score is used to evaluate how good the regression line fit i.e. \n",
    "how near the actual data is to the fitted regression line. This score does not tell if the line is appropriate or not. A low R² score indicates that the regression line does not fit well with the data whereas a high R² score indicates that the model is good and the regression line fits well.\n",
    "Assuming R²= 0.72, we can say that\n",
    "It can be referred that the model explains 72% variation of the dependent variable while the remaining 28% variation is still unaccounted for."
   ]
  },
  {
   "cell_type": "markdown",
   "id": "ebf2b89a-8f02-426c-825d-5bf259aff024",
   "metadata": {},
   "source": [
    "# 2. Mutivariate Linear Regression"
   ]
  },
  {
   "cell_type": "markdown",
   "id": "052b9ac6-82ec-4549-85b2-4af52d3ef706",
   "metadata": {},
   "source": [
    "https://scikit-learn.org/stable/modules/preprocessing.html#encoding-categorical-features"
   ]
  },
  {
   "cell_type": "markdown",
   "id": "ea7cb3a8-2c86-47e6-8a0b-5047afa508f0",
   "metadata": {},
   "source": [
    "# R (Pearson’s correlation coefficient: hệ số tương quan)\n",
    "● Measures the strength of the linear relationship between 02 variables\n",
    "● Range: -1 ≤ R ≤ +1\n",
    "# R-squared (coefficient of determination: hệ số xác định, hệ số tương quan bội của R)\n",
    "● “The proportion of the variation in the dependent variable that is predictable\n",
    "from the independent variable(s)” (wikipedia)\n",
    "● Is used to measure how well a linear regression model fits the data\n",
    "(the goodness of fitting)\n",
    "● Range: 0 ≤ R2 ≤ 1 (R2 should be greater than 0.81)\n",
    "● Training: R2; Testing: Q2 (the goodness of predicting)\n"
   ]
  },
  {
   "cell_type": "markdown",
   "id": "93ab6a33-feec-4dd7-a23f-a25374938e98",
   "metadata": {},
   "source": [
    "# Một số lỗi để đánh giá mức độ dự đoán không chính xác của mô hình\n",
    "● Error: predicted - groundtruth\n",
    "● MSE, RMSE, MAE"
   ]
  },
  {
   "cell_type": "markdown",
   "id": "89793f84-08a6-43ab-8996-44edd287ebc2",
   "metadata": {},
   "source": [
    "# 3. Logistic Regression"
   ]
  },
  {
   "cell_type": "markdown",
   "id": "eb994a8e-1e6d-4add-879f-f7a060d02164",
   "metadata": {},
   "source": [
    "Hồi quy logistic\n",
    "❖ Nhằm dự đoán giá trị đầu ra rời rạc (discrete target variables)\n",
    "❖ Tương tự như phân loại các đầu vào x vào các nhóm y tương ứng"
   ]
  },
  {
   "cell_type": "markdown",
   "id": "d0a92992-ad04-4514-b751-ab9b7cd40c87",
   "metadata": {},
   "source": [
    "Hồi quy logistic\n",
    "❖ Dựa vào hàm logarith\n",
    "❖ Để phân loại: hàm sigmoid"
   ]
  },
  {
   "cell_type": "raw",
   "id": "ed11a78f-3de5-458d-95c1-74e4157d33e1",
   "metadata": {},
   "source": [
    "# Sử dụng Logistic regression trong Python với thư viện sklearn\n",
    "from sklearn.linear_model import\n",
    "LinearRegression\n",
    "regressor = LinearRegression()\n",
    "regressor.fit(x_train, y_train)\n",
    "y_hat = regressor.predict(x_test)"
   ]
  },
  {
   "cell_type": "markdown",
   "id": "f3d2383c-4fb4-4fbf-8e89-1383ec2c3688",
   "metadata": {},
   "source": [
    "- Accuracy: 100*(no. of correct predictions / total no. of predictions)\n",
    "- Error: 1 - accuracy\n",
    "- Confidence Interval:\n",
    "(Note: assume that n > 30)\n",
    "+ Error: interval = z * sqrt( (error * (1 - error)) / n)\n",
    "+ Accuracy: interval = z * sqrt( (accuracy * (1 - accuracy)) / n)\n",
    "(90%: z=1.64; 95%: z=1.96; 98%: z=2.33; 99%: z=2.58)"
   ]
  },
  {
   "cell_type": "code",
   "execution_count": null,
   "id": "51987925-2cd1-4a26-8faf-b1d69db9f102",
   "metadata": {},
   "outputs": [],
   "source": [
    "# 3. Logistic Regression"
   ]
  },
  {
   "cell_type": "code",
   "execution_count": null,
   "id": "da872d1d-7d57-4090-b353-122dac98500f",
   "metadata": {},
   "outputs": [],
   "source": [
    "N_TRAIN = int((X.shape[0]) * 0.8)\n",
    "train_indices = rand_indices[0:N_TRAIN]\n",
    "test_indices= rand_indices[N_TRAIN:]\n",
    "\n",
    "x_train, y_train = X[train_indices], Y[train_indices] \n",
    "print(x_train.shape, y_train.shape)\n",
    "\n",
    "x_test, y_test = X[test_indices], Y[test_indices] \n",
    "print(x_test.shape, y_test.shape)\n",
    "\n",
    "# print(x_train)\n",
    "# print(y_train)\n",
    "# print(x_test)\n",
    "# print(y_test)\n",
    "# print(x_train.shape)\n",
    "# print(x_test.shape)"
   ]
  },
  {
   "cell_type": "code",
   "execution_count": null,
   "id": "a275ec3e-9805-42b3-aecc-a536384eeaab",
   "metadata": {},
   "outputs": [],
   "source": [
    "from sklearn.linear_model import LogisticRegression\n",
    "from sklearn.metrics import classification_report, confusion_matrix\n",
    "regressor = LogisticRegression(solver='liblinear', random_state=0)"
   ]
  },
  {
   "cell_type": "code",
   "execution_count": null,
   "id": "1e36e6de-3357-415a-8caf-a6781bb64794",
   "metadata": {},
   "outputs": [],
   "source": [
    "regressor.fit(x_train, y_train)\n",
    "print(\"Training accuracy:\", regressor.score(x_train, y_train))"
   ]
  },
  {
   "cell_type": "code",
   "execution_count": null,
   "id": "760276e3-3351-4678-a109-b91cd107d132",
   "metadata": {},
   "outputs": [],
   "source": [
    "print(regressor.classes_) # the array of distinct values that y takes\n",
    "print(regressor.intercept_)\n",
    "print(regressor.coef_)"
   ]
  },
  {
   "cell_type": "markdown",
   "id": "3ef5f395-93e1-457d-9da5-9e635632e8d9",
   "metadata": {},
   "source": [
    "Du lieu dang so thuc, dung histogram numpy de ve so do"
   ]
  },
  {
   "cell_type": "code",
   "execution_count": null,
   "id": "06cf2c2b-70e0-4f1d-b543-6640876e5e15",
   "metadata": {},
   "outputs": [],
   "source": []
  },
  {
   "cell_type": "code",
   "execution_count": null,
   "id": "1b4236af-9ceb-46ab-8b83-fba74c79f882",
   "metadata": {},
   "outputs": [],
   "source": []
  },
  {
   "cell_type": "code",
   "execution_count": null,
   "id": "dedb077d-4a74-470c-a28a-cfe686840554",
   "metadata": {},
   "outputs": [],
   "source": [
    "p_pred = regressor.predict_proba(x_test) # the matrix of probablities of the predicted output\n",
    "y_pred = regressor.predict(x_test)\n",
    "score_ = regressor.score(x_test, y_test)\n",
    "conf_m = confusion_matrix(y_test, y_pred)\n",
    "report = classification_report(y_test, y_pred)\n",
    "print(report)"
   ]
  }
 ],
 "metadata": {
  "kernelspec": {
   "display_name": "Python 3 (ipykernel)",
   "language": "python",
   "name": "python3"
  },
  "language_info": {
   "codemirror_mode": {
    "name": "ipython",
    "version": 3
   },
   "file_extension": ".py",
   "mimetype": "text/x-python",
   "name": "python",
   "nbconvert_exporter": "python",
   "pygments_lexer": "ipython3",
   "version": "3.8.12"
  }
 },
 "nbformat": 4,
 "nbformat_minor": 5
}
