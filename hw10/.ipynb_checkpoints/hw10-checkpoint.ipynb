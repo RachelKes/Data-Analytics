{
 "cells": [
  {
   "cell_type": "raw",
   "id": "0317ac06-5843-4250-bd1c-403537b2549e",
   "metadata": {},
   "source": [
    "Thực hiện lại phần demo trên dữ liệu InstaCart:\n",
    "1. Sử dụng hàm 'interactive' thay cho hàm 'interact'\n",
    "2. Bổ sung thêm Button sao cho sau khi chọn các options xong, phải click lên\n",
    "Button mới thực hiện vẽ lại figure\n",
    "Luyện tập: áp dụng interactive widgets cho phân tích EDA dữ liệu chuyến bay"
   ]
  },
  {
   "cell_type": "code",
   "execution_count": 1,
   "id": "94fe28d3-ae04-4409-9fbe-b8058f2119e5",
   "metadata": {},
   "outputs": [
    {
     "name": "stdout",
     "output_type": "stream",
     "text": [
      "7.6.5\n"
     ]
    }
   ],
   "source": [
    "import pandas as pd\n",
    "import numpy as np\n",
    "from matplotlib import pyplot as plt\n",
    "import seaborn as sns\n",
    "import ipywidgets as widgets\n",
    "print(widgets.__version__)"
   ]
  },
  {
   "cell_type": "code",
   "execution_count": 2,
   "id": "69fa7f87-4f8e-4c97-b229-cba46d75a2b1",
   "metadata": {},
   "outputs": [
    {
     "data": {
      "text/html": [
       "<div>\n",
       "<style scoped>\n",
       "    .dataframe tbody tr th:only-of-type {\n",
       "        vertical-align: middle;\n",
       "    }\n",
       "\n",
       "    .dataframe tbody tr th {\n",
       "        vertical-align: top;\n",
       "    }\n",
       "\n",
       "    .dataframe thead th {\n",
       "        text-align: right;\n",
       "    }\n",
       "</style>\n",
       "<table border=\"1\" class=\"dataframe\">\n",
       "  <thead>\n",
       "    <tr style=\"text-align: right;\">\n",
       "      <th></th>\n",
       "      <th>aisle_id</th>\n",
       "      <th>counts</th>\n",
       "      <th>aisle</th>\n",
       "      <th>department_id</th>\n",
       "      <th>department</th>\n",
       "    </tr>\n",
       "  </thead>\n",
       "  <tbody>\n",
       "    <tr>\n",
       "      <th>0</th>\n",
       "      <td>1</td>\n",
       "      <td>15632</td>\n",
       "      <td>prepared soups salads</td>\n",
       "      <td>20</td>\n",
       "      <td>deli</td>\n",
       "    </tr>\n",
       "    <tr>\n",
       "      <th>1</th>\n",
       "      <td>13</td>\n",
       "      <td>21357</td>\n",
       "      <td>prepared meals</td>\n",
       "      <td>20</td>\n",
       "      <td>deli</td>\n",
       "    </tr>\n",
       "    <tr>\n",
       "      <th>2</th>\n",
       "      <td>14</td>\n",
       "      <td>28085</td>\n",
       "      <td>tofu meat alternatives</td>\n",
       "      <td>20</td>\n",
       "      <td>deli</td>\n",
       "    </tr>\n",
       "  </tbody>\n",
       "</table>\n",
       "</div>"
      ],
      "text/plain": [
       "   aisle_id  counts                   aisle  department_id department\n",
       "0         1   15632   prepared soups salads             20       deli\n",
       "1        13   21357          prepared meals             20       deli\n",
       "2        14   28085  tofu meat alternatives             20       deli"
      ]
     },
     "execution_count": 2,
     "metadata": {},
     "output_type": "execute_result"
    }
   ],
   "source": [
    "df = pd.read_csv('aisle_deparment_counts.csv') \n",
    "df.head(3)"
   ]
  },
  {
   "cell_type": "code",
   "execution_count": 3,
   "id": "76b09a83-92bc-4423-815a-63e048684ba6",
   "metadata": {},
   "outputs": [
    {
     "name": "stdout",
     "output_type": "stream",
     "text": [
      "<class 'pandas.core.frame.DataFrame'>\n",
      "RangeIndex: 134 entries, 0 to 133\n",
      "Data columns (total 5 columns):\n",
      " #   Column         Non-Null Count  Dtype \n",
      "---  ------         --------------  ----- \n",
      " 0   aisle_id       134 non-null    int64 \n",
      " 1   counts         134 non-null    int64 \n",
      " 2   aisle          134 non-null    object\n",
      " 3   department_id  134 non-null    int64 \n",
      " 4   department     134 non-null    object\n",
      "dtypes: int64(3), object(2)\n",
      "memory usage: 5.4+ KB\n"
     ]
    }
   ],
   "source": [
    "df.info()"
   ]
  },
  {
   "cell_type": "code",
   "execution_count": 4,
   "id": "0e64faf7-316d-46b9-86f7-3601b0ce5b37",
   "metadata": {},
   "outputs": [],
   "source": [
    "from IPython.display import display, clear_output"
   ]
  },
  {
   "cell_type": "code",
   "execution_count": 5,
   "id": "ccccf16b-2b0c-4c6f-93d0-ff60dc7d6bd6",
   "metadata": {},
   "outputs": [
    {
     "data": {
      "text/html": [
       "<div>\n",
       "<style scoped>\n",
       "    .dataframe tbody tr th:only-of-type {\n",
       "        vertical-align: middle;\n",
       "    }\n",
       "\n",
       "    .dataframe tbody tr th {\n",
       "        vertical-align: top;\n",
       "    }\n",
       "\n",
       "    .dataframe thead th {\n",
       "        text-align: right;\n",
       "    }\n",
       "</style>\n",
       "<table border=\"1\" class=\"dataframe\">\n",
       "  <thead>\n",
       "    <tr style=\"text-align: right;\">\n",
       "      <th></th>\n",
       "      <th>aisle_id</th>\n",
       "      <th>counts</th>\n",
       "      <th>aisle</th>\n",
       "      <th>department_id</th>\n",
       "      <th>department</th>\n",
       "    </tr>\n",
       "  </thead>\n",
       "  <tbody>\n",
       "    <tr>\n",
       "      <th>0</th>\n",
       "      <td>24</td>\n",
       "      <td>786888</td>\n",
       "      <td>fresh fruits</td>\n",
       "      <td>4</td>\n",
       "      <td>produce</td>\n",
       "    </tr>\n",
       "    <tr>\n",
       "      <th>1</th>\n",
       "      <td>83</td>\n",
       "      <td>737374</td>\n",
       "      <td>fresh vegetables</td>\n",
       "      <td>4</td>\n",
       "      <td>produce</td>\n",
       "    </tr>\n",
       "    <tr>\n",
       "      <th>2</th>\n",
       "      <td>123</td>\n",
       "      <td>381575</td>\n",
       "      <td>packaged vegetables fruits</td>\n",
       "      <td>4</td>\n",
       "      <td>produce</td>\n",
       "    </tr>\n",
       "    <tr>\n",
       "      <th>3</th>\n",
       "      <td>120</td>\n",
       "      <td>313279</td>\n",
       "      <td>yogurt</td>\n",
       "      <td>16</td>\n",
       "      <td>dairy eggs</td>\n",
       "    </tr>\n",
       "    <tr>\n",
       "      <th>4</th>\n",
       "      <td>21</td>\n",
       "      <td>211480</td>\n",
       "      <td>packaged cheese</td>\n",
       "      <td>16</td>\n",
       "      <td>dairy eggs</td>\n",
       "    </tr>\n",
       "  </tbody>\n",
       "</table>\n",
       "</div>"
      ],
      "text/plain": [
       "   aisle_id  counts                       aisle  department_id  department\n",
       "0        24  786888                fresh fruits              4     produce\n",
       "1        83  737374            fresh vegetables              4     produce\n",
       "2       123  381575  packaged vegetables fruits              4     produce\n",
       "3       120  313279                      yogurt             16  dairy eggs\n",
       "4        21  211480             packaged cheese             16  dairy eggs"
      ]
     },
     "execution_count": 5,
     "metadata": {},
     "output_type": "execute_result"
    }
   ],
   "source": [
    "df = df.sort_values('counts', ascending=False)\n",
    "df.reset_index(drop=True, inplace=True)\n",
    "df.head()"
   ]
  },
  {
   "cell_type": "markdown",
   "id": "64fcb27b-d570-49a5-90af-725f4932bd6d",
   "metadata": {},
   "source": [
    "20 largest aisles and the rest"
   ]
  },
  {
   "cell_type": "code",
   "execution_count": 6,
   "id": "b6e1e255-0b54-40ab-98dc-0f8c321c96a1",
   "metadata": {},
   "outputs": [
    {
     "name": "stdout",
     "output_type": "stream",
     "text": [
      "2802620\n"
     ]
    },
    {
     "data": {
      "text/html": [
       "<div>\n",
       "<style scoped>\n",
       "    .dataframe tbody tr th:only-of-type {\n",
       "        vertical-align: middle;\n",
       "    }\n",
       "\n",
       "    .dataframe tbody tr th {\n",
       "        vertical-align: top;\n",
       "    }\n",
       "\n",
       "    .dataframe thead th {\n",
       "        text-align: right;\n",
       "    }\n",
       "</style>\n",
       "<table border=\"1\" class=\"dataframe\">\n",
       "  <thead>\n",
       "    <tr style=\"text-align: right;\">\n",
       "      <th></th>\n",
       "      <th>counts</th>\n",
       "      <th>aisle</th>\n",
       "    </tr>\n",
       "  </thead>\n",
       "  <tbody>\n",
       "    <tr>\n",
       "      <th>16</th>\n",
       "      <td>85093</td>\n",
       "      <td>lunch meat</td>\n",
       "    </tr>\n",
       "    <tr>\n",
       "      <th>17</th>\n",
       "      <td>84205</td>\n",
       "      <td>frozen meals</td>\n",
       "    </tr>\n",
       "    <tr>\n",
       "      <th>18</th>\n",
       "      <td>83167</td>\n",
       "      <td>baby food formula</td>\n",
       "    </tr>\n",
       "    <tr>\n",
       "      <th>19</th>\n",
       "      <td>81378</td>\n",
       "      <td>fresh herbs</td>\n",
       "    </tr>\n",
       "    <tr>\n",
       "      <th>20</th>\n",
       "      <td>2802620</td>\n",
       "      <td>others</td>\n",
       "    </tr>\n",
       "  </tbody>\n",
       "</table>\n",
       "</div>"
      ],
      "text/plain": [
       "     counts              aisle\n",
       "16    85093         lunch meat\n",
       "17    84205       frozen meals\n",
       "18    83167  baby food formula\n",
       "19    81378        fresh herbs\n",
       "20  2802620             others"
      ]
     },
     "execution_count": 6,
     "metadata": {},
     "output_type": "execute_result"
    }
   ],
   "source": [
    "N = 20\n",
    "df1 = df[['counts', 'aisle']][0:N]\n",
    "other_count = df['counts'][N:].sum()\n",
    "print(other_count)\n",
    "\n",
    "other = pd.DataFrame({'counts': [other_count], 'aisle': ['others']})\n",
    "df1 = df1.append(other, ignore_index=True)\n",
    "df1.tail(5)"
   ]
  },
  {
   "cell_type": "markdown",
   "id": "8f839896-b84c-42be-a74e-cc86dac97385",
   "metadata": {},
   "source": [
    "Bar plot"
   ]
  },
  {
   "cell_type": "code",
   "execution_count": 124,
   "id": "5d97d077-b081-4ee5-8e22-1c2e9eca7f87",
   "metadata": {},
   "outputs": [
    {
     "data": {
      "application/vnd.jupyter.widget-view+json": {
       "model_id": "cff36bf4b6414c928355296c66acccd2",
       "version_major": 2,
       "version_minor": 0
      },
      "text/plain": [
       "HBox(children=(IntSlider(value=10, description='Aisles', max=20, min=3), Button(button_style='info', descripti…"
      ]
     },
     "metadata": {},
     "output_type": "display_data"
    },
    {
     "data": {
      "application/vnd.jupyter.widget-view+json": {
       "model_id": "c6a26cd90f8e468dac9aa2f77a722e59",
       "version_major": 2,
       "version_minor": 0
      },
      "text/plain": [
       "Output(layout=Layout(border='1px solid white'))"
      ]
     },
     "metadata": {},
     "output_type": "display_data"
    }
   ],
   "source": [
    "wOutput = widgets.Output(layout={'border': '1px solid white'})\n",
    "wIntSlider = widgets.IntSlider(description=\"Aisles\", value=10, min=3, max=20, step=1)\n",
    "wButton = widgets.Button(description=\"Plot\", button_style='info', tooltip=\"Click here\", icon= 'check') \n",
    "# display(wIntSlider, wOutput)\n",
    "\n",
    "def aislePlot(N):\n",
    "    df2 = df[['counts', 'aisle']][0:N]\n",
    "    other = pd.DataFrame({'counts': [df['counts'][N:].sum()], 'aisle': ['others']})\n",
    "    df2 = df2.append(other, ignore_index=True)\n",
    "    df2.plot.bar(y='counts', color='orange', alpha=0.7, figsize=(8,3))\n",
    "    plt.xticks(df2.index,df2['aisle'], rotation=-60, ha='left')\n",
    "    plt.title(\"The largest aisles by orders\")\n",
    "    plt.show()\n",
    "    plt.close('all')\n",
    "        \n",
    "wHBox = widgets.HBox([wIntSlider, wButton])\n",
    "display(wHBox)\n",
    "\n",
    "wAislePlot = widgets.interactive(aislePlot, N=wIntSlider)\n",
    "\n",
    "def wAction(click):\n",
    "    with wOutput:\n",
    "        wOutput.clear_output()\n",
    "        global wIntSlider\n",
    "        display(wIntSlider)\n",
    "        # print(wIntSlider.value)\n",
    "        aislePlot(N=wIntSlider.value)\n",
    "        # display(wAislePlot)\n",
    "\n",
    "wButton.on_click(wAction)\n",
    "display(wOutput)\n",
    "\n",
    "# wVBox = widgets.VBox([wHBox, wOutput])\n",
    "# display(wVBox)"
   ]
  },
  {
   "cell_type": "code",
   "execution_count": 110,
   "id": "334aad05-afdf-430e-ab7e-9d5ca6f6e074",
   "metadata": {},
   "outputs": [
    {
     "data": {
      "application/vnd.jupyter.widget-view+json": {
       "model_id": "f5303f12c38d4d7b98fae521708268c4",
       "version_major": 2,
       "version_minor": 0
      },
      "text/plain": [
       "interactive(children=(IntSlider(value=7, description='Aisles', max=20, min=3), Output(outputs=({'output_type':…"
      ]
     },
     "metadata": {},
     "output_type": "display_data"
    }
   ],
   "source": [
    "display(wAislePlot)"
   ]
  },
  {
   "cell_type": "code",
   "execution_count": null,
   "id": "59fac79b-15e4-4e5d-b8ef-15bb626debea",
   "metadata": {},
   "outputs": [],
   "source": []
  },
  {
   "cell_type": "code",
   "execution_count": null,
   "id": "e10921e4-8ce1-41d2-9bf9-7b8b4ed6095c",
   "metadata": {},
   "outputs": [],
   "source": []
  },
  {
   "cell_type": "code",
   "execution_count": null,
   "id": "595fa6b7-00ac-4d4b-8738-978044d7d85d",
   "metadata": {},
   "outputs": [],
   "source": []
  },
  {
   "cell_type": "code",
   "execution_count": null,
   "id": "5ab1cd9f-e151-4599-a4a7-0a296696b4f7",
   "metadata": {},
   "outputs": [],
   "source": []
  }
 ],
 "metadata": {
  "kernelspec": {
   "display_name": "Python 3 (ipykernel)",
   "language": "python",
   "name": "python3"
  },
  "language_info": {
   "codemirror_mode": {
    "name": "ipython",
    "version": 3
   },
   "file_extension": ".py",
   "mimetype": "text/x-python",
   "name": "python",
   "nbconvert_exporter": "python",
   "pygments_lexer": "ipython3",
   "version": "3.8.12"
  }
 },
 "nbformat": 4,
 "nbformat_minor": 5
}
