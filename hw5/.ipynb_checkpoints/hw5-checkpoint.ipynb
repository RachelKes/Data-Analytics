{
 "cells": [
  {
   "cell_type": "markdown",
   "id": "52d5ea20-3e61-4857-a160-8c9b29ab8020",
   "metadata": {},
   "source": [
    "Thực hiện phân tích mô tả cho dữ liệu chuyến bay \"nycflights.csv\":\n",
    "1. Cho cột dep_delay (khởi hành trễ)\n",
    "2. Cho cột arr_delay (đến nơi trễ)\n",
    "3. Cho cột distance (khoảng cách chuyến bay)\n",
    "4. Cho 3 cột ở trên nhưng chia theo nơi xuất phát:\n",
    "cột origin (gồm 3 sân bay: JFK, LGA, EWR)"
   ]
  },
  {
   "cell_type": "code",
   "execution_count": 1,
   "id": "2816feca-9b62-4076-8180-c2b82fa2dbe9",
   "metadata": {},
   "outputs": [],
   "source": [
    "%matplotlib inline\n",
    "import numpy as np\n",
    "from matplotlib import pyplot as plt\n",
    "from scipy import stats\n",
    "np.set_printoptions(precision=3, threshold=20, suppress=True)\n",
    "import csv"
   ]
  },
  {
   "cell_type": "code",
   "execution_count": 2,
   "id": "67f622b2-3b7f-44c3-82fb-d3151d144785",
   "metadata": {},
   "outputs": [],
   "source": [
    "def read_Data(path):\n",
    "    with open (path, newline='', encoding='utf-8') as csv_file:\n",
    "        data_csv = np.genfromtxt(csv_file, delimiter=',', skip_header=1)\n",
    "        dep_delay = data_csv[:, 5]\n",
    "        arr_delay = data_csv[:, 7]\n",
    "        distance = data_csv[:, 14]\n",
    "    return dep_delay, arr_delay, distance\n",
    "\n",
    "file_path = 'nycflights.csv'\n",
    "dep_delay, arr_delay, distance = read_Data(file_path)  "
   ]
  },
  {
   "cell_type": "code",
   "execution_count": 3,
   "id": "170a2600-cde0-4acf-b2cb-312a104bd416",
   "metadata": {},
   "outputs": [
    {
     "name": "stdout",
     "output_type": "stream",
     "text": [
      "[['2.0' '4.0' '2.0' ... 'nan' 'nan' 'nan']\n",
      " ['11.0' '20.0' '33.0' ... 'nan' 'nan' 'nan']\n",
      " ['1400.0' '1416.0' '1089.0' ... '764.0' '419.0' '431.0']\n",
      " ['\"EWR\"' '\"LGA\"' '\"JFK\"' ... '\"LGA\"' '\"LGA\"' '\"LGA\"']]\n"
     ]
    }
   ],
   "source": [
    "origin = np.genfromtxt(file_path, delimiter=',',skip_header=1, encoding='utf8', dtype=str, usecols=[11])\n",
    "flight_data = np.array([dep_delay, arr_delay, distance, origin])\n",
    "print(flight_data)\n",
    "# print(flight_data)\n",
    "# print(flight_data.size)\n",
    "# print(flight_data.shape)"
   ]
  },
  {
   "cell_type": "markdown",
   "id": "d9150355-4f86-46de-965d-cebc7b431386",
   "metadata": {},
   "source": [
    "1. Descriptive Analytics "
   ]
  },
  {
   "cell_type": "code",
   "execution_count": 4,
   "id": "9ea1123d-273d-4e65-83f9-4c82525fc6ff",
   "metadata": {},
   "outputs": [
    {
     "name": "stdout",
     "output_type": "stream",
     "text": [
      "['EWR' 'LGA' 'JFK' ... 'LGA' 'LGA' 'LGA']\n",
      "111279 104662 120835\n"
     ]
    }
   ],
   "source": [
    "cut_str_origin = np.char.replace(origin, '\"', '')\n",
    "print(cut_str_origin)\n",
    "count_JFK = (cut_str_origin[cut_str_origin == 'JFK']).size\n",
    "count_LGA = (cut_str_origin[cut_str_origin == 'LGA']).size\n",
    "count_EWR = (cut_str_origin[cut_str_origin == 'EWR']).size\n",
    "print(count_JFK, count_LGA, count_EWR)"
   ]
  },
  {
   "cell_type": "markdown",
   "id": "c0f12ff3-3c20-4b0f-a840-19a845608f8a",
   "metadata": {},
   "source": [
    "a. DEPARTURE DELAY"
   ]
  },
  {
   "cell_type": "code",
   "execution_count": 5,
   "id": "969835b6-6b1f-4911-89a8-e9e0a5fff208",
   "metadata": {},
   "outputs": [
    {
     "name": "stdout",
     "output_type": "stream",
     "text": [
      "-43.0\n",
      "1301.0\n",
      "1344.0\n",
      "1616.8440753486673\n",
      "40.20999969346764\n"
     ]
    }
   ],
   "source": [
    "# Measures of Spread\n",
    "rm_nan_dep_delay = dep_delay[~np.isnan(dep_delay)]\n",
    "# dep_delay_sum = (rm_nan_dep_delay.sum()).astype(np.uint32)\n",
    "# print(dep_delay_sum)\n",
    "print(np.min(rm_nan_dep_delay))\n",
    "print(np.max(rm_nan_dep_delay))\n",
    "print(np.ptp(rm_nan_dep_delay))\n",
    "print(np.var(rm_nan_dep_delay))\n",
    "print(np.std(rm_nan_dep_delay))"
   ]
  },
  {
   "cell_type": "code",
   "execution_count": 6,
   "id": "66a1ffef-b89c-46eb-9182-8a39fe1675b8",
   "metadata": {},
   "outputs": [
    {
     "name": "stdout",
     "output_type": "stream",
     "text": [
      "[  2.  -1.  -3. ...  12. -10.  nan]\n",
      "[ 4. -6. -3. ... nan nan nan]\n",
      "[ 2. -4. -5. ... -9. 72. 80.]\n"
     ]
    }
   ],
   "source": [
    "# Measures of Frequency\n",
    "dep_delay_jfk = dep_delay[np.array(cut_str_origin) == 'JFK']\n",
    "dep_delay_lga = dep_delay[np.array(cut_str_origin) == 'LGA']\n",
    "dep_delay_ewr = dep_delay[np.array(cut_str_origin) == 'EWR']\n",
    "print(dep_delay_jfk)\n",
    "print(dep_delay_lga)\n",
    "print(dep_delay_ewr)"
   ]
  },
  {
   "cell_type": "code",
   "execution_count": 7,
   "id": "c148f484-f0ca-444f-b3cc-39d90e38c216",
   "metadata": {},
   "outputs": [
    {
     "name": "stdout",
     "output_type": "stream",
     "text": [
      "1325264.0\n",
      "1050301.0\n",
      "1776635.0\n"
     ]
    }
   ],
   "source": [
    "dep_delay_jfk_sum = np.nansum(dep_delay_jfk)\n",
    "dep_delay_lga_sum = np.nansum(dep_delay_lga)\n",
    "dep_delay_ewr_sum = np.nansum(dep_delay_ewr)\n",
    "print(dep_delay_jfk_sum)\n",
    "print(dep_delay_lga_sum)\n",
    "print(dep_delay_ewr_sum)"
   ]
  },
  {
   "cell_type": "code",
   "execution_count": 8,
   "id": "365a40f6-605c-4095-91ea-202c7236891c",
   "metadata": {},
   "outputs": [
    {
     "data": {
      "image/png": "[encoded data removed]",
      "text/plain": [
       "<Figure size 288x288 with 1 Axes>"
      ]
     },
     "metadata": {},
     "output_type": "display_data"
    }
   ],
   "source": [
    "# Departure Delay Pie Graph for the three airports\n",
    "fig = plt.figure(figsize=(4,4))\n",
    "ax1 = fig.add_subplot(1,1,1)\n",
    "ax1 = ax1.pie([dep_delay_jfk_sum,dep_delay_lga_sum,dep_delay_ewr_sum], autopct='%1.2f%%')\n",
    "plt.legend(['JFK', 'LGA', 'EWR'])\n",
    "plt.show()"
   ]
  },
  {
   "cell_type": "code",
   "execution_count": 9,
   "id": "1fdafd1c-5e45-4e35-9139-4a645f64e858",
   "metadata": {},
   "outputs": [
    {
     "data": {
      "image/png": "[encoded data removed]",
      "text/plain": [
       "<Figure size 360x288 with 1 Axes>"
      ]
     },
     "metadata": {
      "needs_background": "light"
     },
     "output_type": "display_data"
    }
   ],
   "source": [
    "# Departure Delay Histogram for the three airports\n",
    "fig, ax = plt.subplots(figsize=(5,4), num=1)\n",
    "# ax.hist(rm_nan_dep_delay, bins=20, color='red')\n",
    "ax.hist(rm_nan_dep_delay, bins = np.linspace(np.min(rm_nan_dep_delay), np.max(rm_nan_dep_delay),num=100), color='red')\n",
    "ax.set_title(\"Departure Delay of the Airports\", color='blue')\n",
    "plt.tight_layout()\n",
    "plt.show()"
   ]
  },
  {
   "cell_type": "code",
   "execution_count": 10,
   "id": "248c0ab6-a5fe-4f8b-9ee4-2fe268b8911d",
   "metadata": {},
   "outputs": [
    {
     "name": "stdout",
     "output_type": "stream",
     "text": [
      "Dep Delay Mean:  12.639070257304708\n",
      "Dep Delay Median:  -2.0\n",
      "Dep Delay Mode:  -1.8571428571428594\n"
     ]
    }
   ],
   "source": [
    "# Measures of Central Tendency\n",
    "dep_delay_mean = np.mean(rm_nan_dep_delay)\n",
    "dep_delay_median = np.median(rm_nan_dep_delay)\n",
    "h = np.histogram(rm_nan_dep_delay, bins= np.linspace(min(rm_nan_dep_delay), max(rm_nan_dep_delay)))\n",
    "# print(h)\n",
    "counts, bins = h\n",
    "# print(counts, bins)\n",
    "mode_idx = np.argmax(counts)\n",
    "# print(mode_idx)\n",
    "dep_delay_mode = np.mean([bins[mode_idx], bins[mode_idx+1]])\n",
    "# print(bins[mode_idx])\n",
    "# print(bins[mode_idx+1])\n",
    "print(\"Dep Delay Mean: \", dep_delay_mean)\n",
    "print(\"Dep Delay Median: \", dep_delay_median)\n",
    "print(\"Dep Delay Mode: \", dep_delay_mode)"
   ]
  },
  {
   "cell_type": "code",
   "execution_count": 11,
   "id": "53bf8cd8-35d1-4191-9f78-cc45e788e3ae",
   "metadata": {},
   "outputs": [
    {
     "data": {
      "image/png": "[encoded data removed]",
      "text/plain": [
       "<Figure size 360x216 with 1 Axes>"
      ]
     },
     "metadata": {
      "needs_background": "light"
     },
     "output_type": "display_data"
    }
   ],
   "source": [
    "# Departure Delay Histogram \n",
    "fig, ax = plt.subplots(figsize=(5,3), num=1)\n",
    "ax.hist(rm_nan_dep_delay, bins=50, color='red')\n",
    "ax.set_xlabel(\"Departure delay of the airports\")\n",
    "\n",
    "ax.axvline(dep_delay_mean, color='blue', linestyle='dashed', linewidth=1)\n",
    "ax.text(dep_delay_mean+10, 200000, f\"Mean\\n{dep_delay_mean:.2f}\", color='k')\n",
    "\n",
    "ax.axvline(dep_delay_median, color='k', linestyle='dashed', linewidth=1)\n",
    "ax.text(dep_delay_median+10, 150000, f\"Median\\n{dep_delay_median:.2f}\", color=\"k\")\n",
    "\n",
    "ax.axvline(dep_delay_mode, color='yellow', linestyle='dashed', linewidth=1)\n",
    "ax.text(dep_delay_mode+10,100000, f\"Mode:\\n{dep_delay_mode:.2f}\", color='k')\n",
    "\n",
    "# ax.set_xlim([10, 400])\n",
    "\n",
    "plt.show()"
   ]
  },
  {
   "cell_type": "code",
   "execution_count": 12,
   "id": "80176e2b-51e8-4d48-81e2-453e5a29541d",
   "metadata": {},
   "outputs": [
    {
     "data": {
      "text/plain": [
       "array([-5., -2., 11.])"
      ]
     },
     "execution_count": 12,
     "metadata": {},
     "output_type": "execute_result"
    }
   ],
   "source": [
    "# Measures of position:\n",
    "# Quantile\n",
    "np.quantile(rm_nan_dep_delay, [0.25, 0.5, 0.75])"
   ]
  },
  {
   "cell_type": "code",
   "execution_count": 13,
   "id": "0c678a8f-f692-46e8-834a-c1a626aa90ee",
   "metadata": {},
   "outputs": [
    {
     "data": {
      "text/plain": [
       "4.802518583045284"
      ]
     },
     "execution_count": 13,
     "metadata": {},
     "output_type": "execute_result"
    }
   ],
   "source": [
    "# Measures of shape:\n",
    "stats.skew(rm_nan_dep_delay)"
   ]
  },
  {
   "cell_type": "code",
   "execution_count": 14,
   "id": "02a4042b-adc3-4c72-96dc-963b03a917ae",
   "metadata": {},
   "outputs": [
    {
     "data": {
      "text/plain": [
       "43.94942885946747"
      ]
     },
     "execution_count": 14,
     "metadata": {},
     "output_type": "execute_result"
    }
   ],
   "source": [
    "stats.kurtosis(rm_nan_dep_delay)"
   ]
  },
  {
   "cell_type": "markdown",
   "id": "b663740d-dcc5-42dc-8533-4b8c62f1c46d",
   "metadata": {},
   "source": [
    "b. ARRIVAL DELAY"
   ]
  },
  {
   "cell_type": "code",
   "execution_count": 15,
   "id": "7980c08d-e9da-4c1a-a2e7-bb6a9e29625d",
   "metadata": {},
   "outputs": [
    {
     "name": "stdout",
     "output_type": "stream",
     "text": [
      "-86.0\n",
      "1272.0\n",
      "1358.0\n",
      "1992.1246413983508\n",
      "44.633223515654244\n"
     ]
    }
   ],
   "source": [
    "# Measures of Spread\n",
    "rm_nan_arr_delay = arr_delay[~np.isnan(arr_delay)]\n",
    "arr_delay_sum = rm_nan_arr_delay.sum()\n",
    "# print(arr_delay_sum)\n",
    "# print(rm_nan_arr_delay)\n",
    "print(np.min(rm_nan_arr_delay))\n",
    "print(np.max(rm_nan_arr_delay))\n",
    "print(np.ptp(rm_nan_arr_delay))\n",
    "print(np.var(rm_nan_arr_delay))\n",
    "print(np.std(rm_nan_arr_delay))"
   ]
  },
  {
   "cell_type": "code",
   "execution_count": 16,
   "id": "750c8a72-2bb0-46ee-aefe-dc4d58d36abe",
   "metadata": {},
   "outputs": [],
   "source": [
    "# Measures of Frequency\n",
    "arr_delay_jfk = arr_delay[np.array(cut_str_origin) == 'JFK']\n",
    "arr_delay_lga = arr_delay[np.array(cut_str_origin) == 'LGA']\n",
    "arr_delay_ewr = arr_delay[np.array(cut_str_origin) == 'EWR']\n",
    "# print(arr_delay_jfk)\n",
    "# print(arr_delay_lga)\n",
    "# print(arr_delay_ewr)"
   ]
  },
  {
   "cell_type": "code",
   "execution_count": 17,
   "id": "ce09a705-aa81-4cac-81a0-f2137537137b",
   "metadata": {},
   "outputs": [
    {
     "name": "stdout",
     "output_type": "stream",
     "text": [
      "605550.0\n",
      "584942.0\n",
      "1066682.0\n"
     ]
    }
   ],
   "source": [
    "arr_delay_jfk_sum = np.nansum(arr_delay_jfk)\n",
    "arr_delay_lga_sum = np.nansum(arr_delay_lga)\n",
    "arr_delay_ewr_sum = np.nansum(arr_delay_ewr)\n",
    "print(arr_delay_jfk_sum)\n",
    "print(arr_delay_lga_sum)\n",
    "print(arr_delay_ewr_sum)"
   ]
  },
  {
   "cell_type": "code",
   "execution_count": 18,
   "id": "4f2025bd-a965-4779-95ac-d655cd631278",
   "metadata": {},
   "outputs": [
    {
     "data": {
      "image/png": "[encoded data removed]",
      "text/plain": [
       "<Figure size 288x288 with 1 Axes>"
      ]
     },
     "metadata": {},
     "output_type": "display_data"
    }
   ],
   "source": [
    "# Arrival Delay Pie Graph for the three airports\n",
    "fig = plt.figure(figsize=(4,4))\n",
    "ax1 = fig.add_subplot(1,1,1)\n",
    "ax1 = ax1.pie([arr_delay_jfk_sum,arr_delay_lga_sum,arr_delay_ewr_sum], autopct='%1.2f%%')\n",
    "plt.legend(['JFK', 'LGA', 'EWR'])\n",
    "plt.show()"
   ]
  },
  {
   "cell_type": "code",
   "execution_count": 19,
   "id": "f4e84fd9-e27c-4ce2-918e-6bfd993b5743",
   "metadata": {},
   "outputs": [
    {
     "data": {
      "image/png": "[encoded data removed]",
      "text/plain": [
       "<Figure size 360x288 with 1 Axes>"
      ]
     },
     "metadata": {
      "needs_background": "light"
     },
     "output_type": "display_data"
    }
   ],
   "source": [
    "# Arrival Delay Histogram for the three airports\n",
    "fig, ax = plt.subplots(figsize=(5,4), num=1)\n",
    "ax.hist(rm_nan_arr_delay, bins = np.linspace(np.min(rm_nan_arr_delay), np.max(rm_nan_arr_delay),num=50), color='red')\n",
    "ax.set_title(\"Arrival Delay of the Airports\", color='blue')\n",
    "plt.tight_layout()\n",
    "plt.show()"
   ]
  },
  {
   "cell_type": "code",
   "execution_count": 20,
   "id": "219f3678-2501-4be5-9960-2dd8fc3481e8",
   "metadata": {},
   "outputs": [
    {
     "name": "stdout",
     "output_type": "stream",
     "text": [
      "Arrival Delay Mean:  6.89537675731489\n",
      "Arrival Delay Median:  -5.0\n",
      "Arrival Delay Mode:  -16.714285714285715\n"
     ]
    }
   ],
   "source": [
    "# Measures of Central Tendency\n",
    "arr_delay_mean = np.mean(rm_nan_arr_delay)\n",
    "arr_delay_median = np.median(rm_nan_arr_delay)\n",
    "arr_h = np.histogram(rm_nan_arr_delay, bins= np.linspace(min(rm_nan_arr_delay), max(rm_nan_arr_delay)))\n",
    "# print(arr_h)\n",
    "counts, bins = arr_h\n",
    "# print(counts, bins)\n",
    "arr_mode_idx = np.argmax(counts)\n",
    "# print(mode_idx)\n",
    "arr_delay_mode = np.mean([bins[arr_mode_idx], bins[arr_mode_idx+1]])\n",
    "# print(bins[arr_mode_idx])\n",
    "# print(bins[arr_mode_idx+1])\n",
    "print(\"Arrival Delay Mean: \", arr_delay_mean)\n",
    "print(\"Arrival Delay Median: \", arr_delay_median)\n",
    "print(\"Arrival Delay Mode: \", arr_delay_mode)"
   ]
  },
  {
   "cell_type": "code",
   "execution_count": 21,
   "id": "144d975d-313d-42bb-805e-f60d1466c348",
   "metadata": {},
   "outputs": [
    {
     "data": {
      "image/png": "[encoded data removed]",
      "text/plain": [
       "<Figure size 360x216 with 1 Axes>"
      ]
     },
     "metadata": {
      "needs_background": "light"
     },
     "output_type": "display_data"
    }
   ],
   "source": [
    "# Arrival Delay Histogram \n",
    "fig, ax = plt.subplots(figsize=(5,3), num=1)\n",
    "ax.hist(rm_nan_arr_delay, bins=50, color='red')\n",
    "ax.set_title(\"Arrival delay of the airports\", color='b')\n",
    "\n",
    "ax.axvline(arr_delay_mean, color='blue', linestyle='dashed', linewidth=1)\n",
    "ax.text(arr_delay_mean+10, 120000, f\"Mean\\n{arr_delay_mean:.2f}\", color='k')\n",
    "\n",
    "ax.axvline(arr_delay_median, color='green', linestyle='dashed', linewidth=1)\n",
    "ax.text(arr_delay_median+10, 90000, f\"Median\\n{arr_delay_median:.2f}\", color=\"k\")\n",
    "\n",
    "ax.axvline(arr_delay_mode, color='yellow', linestyle='dashed', linewidth=1)\n",
    "ax.text(arr_delay_mode+10,60000, f\"Mode:\\n{arr_delay_mode:.2f}\", color='k')\n",
    "\n",
    "plt.show()"
   ]
  },
  {
   "cell_type": "code",
   "execution_count": 22,
   "id": "d9bc4604-43df-433d-a582-f2b7d8440f2d",
   "metadata": {},
   "outputs": [
    {
     "data": {
      "text/plain": [
       "array([-17.,  -5.,  14.])"
      ]
     },
     "execution_count": 22,
     "metadata": {},
     "output_type": "execute_result"
    }
   ],
   "source": [
    "# Measures of position:\n",
    "# Quantile\n",
    "np.quantile(rm_nan_arr_delay, [0.25, 0.5, 0.75])"
   ]
  },
  {
   "cell_type": "code",
   "execution_count": 23,
   "id": "1c46b658-555c-4ffd-ad05-f50d47eec545",
   "metadata": {},
   "outputs": [
    {
     "data": {
      "text/plain": [
       "3.716800448835242"
      ]
     },
     "execution_count": 23,
     "metadata": {},
     "output_type": "execute_result"
    }
   ],
   "source": [
    "# Measures of shape:\n",
    "stats.skew(rm_nan_arr_delay)"
   ]
  },
  {
   "cell_type": "code",
   "execution_count": 24,
   "id": "681b330f-9960-45ed-969f-0d31c398b5b9",
   "metadata": {},
   "outputs": [
    {
     "data": {
      "text/plain": [
       "29.232579155522792"
      ]
     },
     "execution_count": 24,
     "metadata": {},
     "output_type": "execute_result"
    }
   ],
   "source": [
    "stats.kurtosis(rm_nan_arr_delay)"
   ]
  },
  {
   "cell_type": "markdown",
   "id": "f66881ad-8afc-4370-b2a8-e31e7a63d3b4",
   "metadata": {},
   "source": [
    "c. Distance"
   ]
  },
  {
   "cell_type": "code",
   "execution_count": 25,
   "id": "642fc2d8-90e6-47e4-a5ec-fe2a8b23a9f3",
   "metadata": {},
   "outputs": [
    {
     "name": "stdout",
     "output_type": "stream",
     "text": [
      "17.0\n",
      "4983.0\n",
      "4966.0\n",
      "537629.0847526626\n",
      "733.2319447164468\n"
     ]
    }
   ],
   "source": [
    "# Measures of Spread\n",
    "print(np.min(distance))\n",
    "print(np.max(distance))\n",
    "print(np.ptp(distance))\n",
    "print(np.var(distance))\n",
    "print(np.std(distance))"
   ]
  },
  {
   "cell_type": "code",
   "execution_count": 26,
   "id": "6be0b435-ba52-4606-ae53-9bff45b41012",
   "metadata": {},
   "outputs": [
    {
     "name": "stdout",
     "output_type": "stream",
     "text": [
      "140906931.0\n",
      "81619161.0\n",
      "127691515.0\n"
     ]
    }
   ],
   "source": [
    "# Measures of Frequency\n",
    "distance_jfk = distance[np.array(cut_str_origin) == 'JFK']\n",
    "distance_lga = distance[np.array(cut_str_origin) == 'LGA']\n",
    "distance_ewr = distance[np.array(cut_str_origin) == 'EWR']\n",
    "distance_jfk_sum = np.sum(distance_jfk)\n",
    "distance_lga_sum = np.sum(distance_lga)\n",
    "distance_ewr_sum = np.sum(distance_ewr)\n",
    "print(distance_jfk_sum)\n",
    "print(distance_lga_sum)\n",
    "print(distance_ewr_sum)"
   ]
  },
  {
   "cell_type": "code",
   "execution_count": 27,
   "id": "0dae5776-dcdf-4e8e-8d83-6ef3bcd4c6b5",
   "metadata": {},
   "outputs": [
    {
     "data": {
      "image/png": "[encoded data removed]",
      "text/plain": [
       "<Figure size 288x288 with 1 Axes>"
      ]
     },
     "metadata": {},
     "output_type": "display_data"
    }
   ],
   "source": [
    "# Distance Pie Graph for the three airports\n",
    "fig = plt.figure(figsize=(4,4))\n",
    "ax1 = fig.add_subplot(1,1,1)\n",
    "ax1 = ax1.pie([distance_jfk_sum,distance_lga_sum,distance_ewr_sum], autopct='%1.2f%%')\n",
    "plt.legend(['JFK', 'LGA', 'EWR'])\n",
    "plt.show()"
   ]
  },
  {
   "cell_type": "code",
   "execution_count": 28,
   "id": "a02510d2-3759-467b-953e-f10f46a4102a",
   "metadata": {},
   "outputs": [
    {
     "data": {
      "image/png": "[encoded data removed]",
      "text/plain": [
       "<Figure size 360x288 with 1 Axes>"
      ]
     },
     "metadata": {
      "needs_background": "light"
     },
     "output_type": "display_data"
    }
   ],
   "source": [
    "# Distance Histogram for the three airports\n",
    "fig, ax = plt.subplots(figsize=(5,4), num=1)\n",
    "ax.hist(distance, bins = np.linspace(np.min(distance), np.max(distance),num=60), color='green', alpha=0.6)\n",
    "\n",
    "ax.set_title(\"Distance of the Airports\", color='blue')\n",
    "plt.tight_layout()\n",
    "plt.show()"
   ]
  },
  {
   "cell_type": "code",
   "execution_count": 29,
   "id": "caf993a7-1713-4a6c-8473-b1a17a22cb27",
   "metadata": {},
   "outputs": [
    {
     "name": "stdout",
     "output_type": "stream",
     "text": [
      "Distance Mean:  1039.9126036297123\n",
      "Distance Median:  872.0\n",
      "Distance Mode:  777.1020408163265\n"
     ]
    }
   ],
   "source": [
    "# Measures of Central Tendency\n",
    "distance_mean = np.mean(distance)\n",
    "distance_median = np.median(distance)\n",
    "dis_h = np.histogram(distance, bins= np.linspace(min(distance), max(distance)))\n",
    "# print(dis_h)\n",
    "counts, bins = dis_h\n",
    "# print(counts, bins)\n",
    "dis_mode_idx = np.argmax(counts)\n",
    "# print(dis_mode_idx)\n",
    "distance_mode = np.mean([bins[dis_mode_idx], bins[dis_mode_idx+1]])\n",
    "# print(bins[dis_mode_idx])\n",
    "# print(bins[dis_mode_idx+1])\n",
    "print(\"Distance Mean: \", distance_mean)\n",
    "print(\"Distance Median: \", distance_median)\n",
    "print(\"Distance Mode: \", distance_mode)"
   ]
  },
  {
   "cell_type": "code",
   "execution_count": 30,
   "id": "8c29457d-602a-41ef-ba98-d479af30c9ed",
   "metadata": {},
   "outputs": [
    {
     "data": {
      "image/png": "[encoded data removed]",
      "text/plain": [
       "<Figure size 360x216 with 1 Axes>"
      ]
     },
     "metadata": {
      "needs_background": "light"
     },
     "output_type": "display_data"
    }
   ],
   "source": [
    "# Distance Histogram \n",
    "fig, ax = plt.subplots(figsize=(5,3), num=1)\n",
    "ax.hist(distance, bins=50, color='blue', alpha=0.6)\n",
    "ax.set_title(\"Arrival delay of the airports\", color='b')\n",
    "\n",
    "ax.axvline(distance_mean, color='red', linestyle='dashed', linewidth=1)\n",
    "ax.text(distance_mean+10, 30000, f\"Mean\\n{distance_mean:.2f}\", color='k')\n",
    "\n",
    "ax.axvline(distance_median, color='green', linestyle='dashed', linewidth=1)\n",
    "ax.text(distance_median+10, 20000, f\"Median\\n{distance_median:.2f}\", color=\"k\")\n",
    "\n",
    "ax.axvline(distance_mode, color='yellow', linestyle='dashed', linewidth=1)\n",
    "ax.text(distance_mode+10,10000, f\"Mode:\\n{distance_mode:.2f}\", color='k')\n",
    "\n",
    "plt.show()"
   ]
  },
  {
   "cell_type": "code",
   "execution_count": 31,
   "id": "14107d30-affa-4d78-b16c-b37779664913",
   "metadata": {},
   "outputs": [
    {
     "data": {
      "text/plain": [
       "array([ 502.,  872., 1389.])"
      ]
     },
     "execution_count": 31,
     "metadata": {},
     "output_type": "execute_result"
    }
   ],
   "source": [
    "# Measures of position:\n",
    "# Quantile\n",
    "np.quantile(distance, [0.25, 0.5, 0.75])"
   ]
  },
  {
   "cell_type": "code",
   "execution_count": 32,
   "id": "5ca313bb-1aea-4305-853b-6f19bdd70216",
   "metadata": {},
   "outputs": [
    {
     "data": {
      "text/plain": [
       "1.1286851238552507"
      ]
     },
     "execution_count": 32,
     "metadata": {},
     "output_type": "execute_result"
    }
   ],
   "source": [
    "# Measures of shape:\n",
    "stats.skew(distance)"
   ]
  },
  {
   "cell_type": "code",
   "execution_count": 33,
   "id": "fdf20d7f-8330-47b0-83c8-77f7b4d881eb",
   "metadata": {},
   "outputs": [
    {
     "data": {
      "text/plain": [
       "1.193604368532454"
      ]
     },
     "execution_count": 33,
     "metadata": {},
     "output_type": "execute_result"
    }
   ],
   "source": [
    "stats.kurtosis(distance)"
   ]
  },
  {
   "cell_type": "markdown",
   "id": "36941214-e400-4631-81c5-65731e7c3260",
   "metadata": {},
   "source": [
    "d. Origin on dep_delay, arr_delay, distance for JFK"
   ]
  },
  {
   "cell_type": "code",
   "execution_count": 54,
   "id": "fbb0595d-4a55-42b5-8952-80c09cfa7008",
   "metadata": {},
   "outputs": [
    {
     "data": {
      "image/png": "[encoded data removed]",
      "text/plain": [
       "<Figure size 432x288 with 1 Axes>"
      ]
     },
     "metadata": {
      "needs_background": "light"
     },
     "output_type": "display_data"
    }
   ],
   "source": [
    "# jfk = np.array(cut_str_origin) == 'JFK'\n",
    "# lga = np.array(cut_str_origin) == 'LGA'\n",
    "# ewr = np.array(cut_str_origin) == 'EWR'\n",
    "\n",
    "# fig, ax = plt.subplots()\n",
    "# ax1 = ax.boxplot([dep_delay[jfk], dep_delay[lga], dep_delay[ewr]])\n",
    "# ax2 = ax.boxplot([arr_delay[jfk], arr_delay[lga], arr_delay[ewr]])\n",
    "# ax3 = ax.boxplot([distance[jfk], distance[lga], distance[ewr]])\n",
    "\n",
    "# plt.show()"
   ]
  },
  {
   "cell_type": "code",
   "execution_count": 42,
   "id": "f19a56eb-b262-4e98-9464-26336e78dabd",
   "metadata": {},
   "outputs": [
    {
     "name": "stdout",
     "output_type": "stream",
     "text": [
      "[['2' '11' '1400' 'EWR']\n",
      " ['4' '20' '1416' 'LGA']\n",
      " ['2' '33' '1089' 'JFK']\n",
      " ...\n",
      " ['NA' 'NA' '764' 'LGA']\n",
      " ['NA' 'NA' '419' 'LGA']\n",
      " ['NA' 'NA' '431' 'LGA']]\n"
     ]
    }
   ],
   "source": [
    "def read_file(path):\n",
    "    with open(path, newline='', encoding='utf-8') as csv_file:\n",
    "        data_csv = csv.reader(csv_file, delimiter=',')\n",
    "        header = next(data_csv)\n",
    "        raw_data = np.array([row for row in data_csv])\n",
    "        return raw_data\n",
    "    \n",
    "path = \"nycflights.csv\"\n",
    "raw_data = read_file(path)\n",
    "flights = raw_data[:,[5,7,14,11]]\n",
    "print(flights)"
   ]
  },
  {
   "cell_type": "code",
   "execution_count": 43,
   "id": "4c4f1fc2-7707-483b-a882-00173342f3c7",
   "metadata": {},
   "outputs": [
    {
     "name": "stdout",
     "output_type": "stream",
     "text": [
      "[['2' '33' '1089' 'JFK']\n",
      " ['-1' '-18' '1576' 'JFK']\n",
      " ['-3' '-8' '944' 'JFK']\n",
      " ...\n",
      " ['12' '1' '187' 'JFK']\n",
      " ['-10' '-25' '1617' 'JFK']\n",
      " ['NA' 'NA' '213' 'JFK']]\n",
      "(111279, 4)\n"
     ]
    }
   ],
   "source": [
    "jfk_flights = flights[flights[:,3] =='JFK']\n",
    "lga_flights = flights[flights[:,3] =='LGA']\n",
    "ewr_flights = flights[flights[:,3] =='EWR']\n",
    "print(jfk_flights)\n",
    "print(jfk_flights.shape)\n",
    "# print(lga_flights)\n",
    "# print(ewr_flights)\n",
    "\n",
    "# nan_flights = flights[:] == \"NA\"\n",
    "# rmnan_flights = flights[~nan_flights] \n",
    "# print(nan_flights)\n",
    "# print(nan_flights.shape)\n",
    "# print(rmnan_flights.size)\n",
    "# print(rmnan_flights)"
   ]
  },
  {
   "cell_type": "code",
   "execution_count": 49,
   "id": "eda40dc1-4b8a-417b-be6b-0863818743d9",
   "metadata": {},
   "outputs": [
    {
     "name": "stdout",
     "output_type": "stream",
     "text": [
      "[['2' '33' '1089']\n",
      " ['-1' '-18' '1576']\n",
      " ['-3' '-8' '944']\n",
      " ...\n",
      " ['12' '1' '187']\n",
      " ['-10' '-25' '1617']\n",
      " ['NA' 'NA' '213']]\n",
      "(111279, 3)\n"
     ]
    }
   ],
   "source": [
    "jfk_test = jfk_flights[:, (0,1,2)]\n",
    "lga_test = lga_flights[:, (0,1,2)]\n",
    "ewr_test = ewr_flights[:, (0,1,2)]\n",
    "\n",
    "print(jfk_test)\n",
    "print(jfk_test.shape)"
   ]
  },
  {
   "cell_type": "code",
   "execution_count": 50,
   "id": "b645c555-02b0-43ce-aa84-6d128515f82d",
   "metadata": {},
   "outputs": [],
   "source": [
    "jfk_test[jfk_test == \"NA\"] = np.nan\n",
    "jfk_test = jfk_test.astype('float64')\n",
    "jfk_test[np.isnan(jfk_test)] = 0"
   ]
  },
  {
   "cell_type": "code",
   "execution_count": 51,
   "id": "32cf79a1-1ff7-424b-93fe-e02f1c2b7f87",
   "metadata": {},
   "outputs": [
    {
     "name": "stdout",
     "output_type": "stream",
     "text": [
      "JFK Airport        mean         median        mode\n",
      "\n",
      "Departure delay:    11.91       -1.0          -3.0\n",
      "Arriaval delay:     5.44        -5.0           0.0\n",
      "Distance:           1266.25     1069.0       2475.0\n"
     ]
    }
   ],
   "source": [
    "jfk_mean=np.mean(jfk_test,axis=0)\n",
    "jfk_median=np.median(jfk_test,axis=0)\n",
    "jfk_mode = stats.mode(jfk_test,axis=0)\n",
    "print('JFK Airport        mean         median        mode')\n",
    "print(\"\")\n",
    "print(\"Departure delay:   \",np.around(jfk_mean[0],2), \"     \", np.around(jfk_median[0],2),\"        \", np.around(jfk_mode[0][0][0],2))\n",
    "print(\"Arriaval delay:    \",np.around(jfk_mean[1],2), \"      \", np.around(jfk_median[1],2),\"         \",np.around(jfk_mode[0][0][1],2))\n",
    "print(\"Distance:          \",np.around(jfk_mean[2],2), \"   \", np.around(jfk_median[2],2),\"     \",np.around(jfk_mode[0][0][2],2))"
   ]
  },
  {
   "cell_type": "code",
   "execution_count": 53,
   "id": "7de96722-8d39-4c85-90a7-fc4decf5e6e7",
   "metadata": {},
   "outputs": [
    {
     "name": "stdout",
     "output_type": "stream",
     "text": [
      "JFK Airport        variance     standard_deviation       Q1        Q2        Q3     skewness      kurtosis\n",
      "\n",
      "Departure delay:    1500.63          38.74              -4.0      -17.0    427.0       5.49       65.477\n",
      "Arriaval delay:     1922.31          43.84              -1.0       -5.0    1069.0      4.04       39.847\n",
      "Distance:           803003.01        896.1               9.0       12.0    2248.0      0.48       -0.666\n"
     ]
    }
   ],
   "source": [
    "# Measures of Spread for JFK\n",
    "jfk_minimum=np.min(jfk_test,axis=0)\n",
    "jfk_maximum=np.max(jfk_test,axis=0)\n",
    "jfk_var = np.var(jfk_test,axis=0)\n",
    "jfk_std = np.std(jfk_test,axis=0)\n",
    "jfk_quantile = np.quantile(jfk_test,[0.25, 0.5, 0.75],axis=0)\n",
    "jfk_skewness = stats.skew(jfk_test,axis=0)\n",
    "jfk_kurtosis = stats.kurtosis(jfk_test,axis=0)\n",
    "\n",
    "print('JFK Airport        variance     standard_deviation       Q1        Q2        Q3     skewness      kurtosis')\n",
    "print(\"\")\n",
    "print(\"Departure delay:   \",np.around(jfk_var[0],2), \"        \", np.around(jfk_std[0],2),\"            \", np.around(jfk_quantile[0][0],2), \"    \",np.around(jfk_quantile[0][1],2),\"  \",np.around(jfk_quantile[0][2],2),\"     \", np.around(jfk_skewness[0],2),\"     \", np.around(jfk_kurtosis[0],3))\n",
    "print(\"Arriaval delay:    \",np.around(jfk_var[1],2), \"        \", np.around(jfk_std[1],2),\"            \",np.around(jfk_quantile[1][0],2), \"     \",np.around(jfk_quantile[1][1],2),\"  \",np.around(jfk_quantile[1][2],2),\"    \", np.around(jfk_skewness[1],2),\"     \", np.around(jfk_kurtosis[1],3))\n",
    "print(\"Distance:          \",np.around(jfk_var[2],2), \"      \", np.around(jfk_std[2],2),\"             \",np.around(jfk_quantile[2][0],2), \"     \",np.around(jfk_quantile[2][1],2),\"  \",np.around(jfk_quantile[2][2],2),\"    \", np.around(jfk_skewness[2],2),\"     \", np.around(jfk_kurtosis[2],3))\n"
   ]
  },
  {
   "cell_type": "code",
   "execution_count": 56,
   "id": "69e79dd3-e79b-4051-a044-3e9e9f96ffac",
   "metadata": {},
   "outputs": [],
   "source": []
  },
  {
   "cell_type": "code",
   "execution_count": null,
   "id": "fcbd4755-3101-4f70-b957-67e804d872cd",
   "metadata": {},
   "outputs": [],
   "source": []
  }
 ],
 "metadata": {
  "kernelspec": {
   "display_name": "Python 3 (ipykernel)",
   "language": "python",
   "name": "python3"
  },
  "language_info": {
   "codemirror_mode": {
    "name": "ipython",
    "version": 3
   },
   "file_extension": ".py",
   "mimetype": "text/x-python",
   "name": "python",
   "nbconvert_exporter": "python",
   "pygments_lexer": "ipython3",
   "version": "3.8.12"
  }
 },
 "nbformat": 4,
 "nbformat_minor": 5
}
