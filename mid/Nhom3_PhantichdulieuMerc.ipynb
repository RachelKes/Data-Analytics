{
 "cells": [
  {
   "cell_type": "code",
   "execution_count": 1,
   "id": "d7435da6",
   "metadata": {},
   "outputs": [],
   "source": [
    "import numpy as np\n",
    "np.set_printoptions(precision=3, suppress=True, threshold = 20)\n",
    "from matplotlib import pyplot as plt\n",
    "from scipy import stats\n",
    "from sklearn.linear_model import LinearRegression\n",
    "%matplotlib inline"
   ]
  },
  {
   "cell_type": "code",
   "execution_count": 2,
   "id": "3353ba93-1ffb-496a-b80e-e02a00f06685",
   "metadata": {},
   "outputs": [
    {
     "name": "stdout",
     "output_type": "stream",
     "text": [
      "[['SLK' '2005' '5200' ... '325' '32.1' '1.8']\n",
      " ['S Class' '2017' '34948' ... '20' '61.4' '2.1']\n",
      " ['SL CLASS' '2016' '49948' ... '555' '28.0' '5.5']\n",
      " ...\n",
      " ['GLC Class' '2019' '30999' ... '145' '41.5' '2.1']\n",
      " ['CLS Class' '2019' '37990' ... '145' '45.6' '2.0']\n",
      " ['S Class' '2019' '54999' ... '145' '52.3' '2.9']]\n",
      "(13119, 9)\n",
      "<class 'numpy.str_'>\n"
     ]
    }
   ],
   "source": [
    "data = np.genfromtxt('merc.csv', dtype=str, delimiter=',', skip_header=1)\n",
    "# print(raw_data)\n",
    "# data = np.array([row for row in raw_data if int(row[1])>2015])  #lay tat ca xe >2015 \n",
    "print(data)\n",
    "print(data.shape)\n",
    "print(type(data[:,2][1]))"
   ]
  },
  {
   "cell_type": "code",
   "execution_count": 3,
   "id": "fa424099",
   "metadata": {},
   "outputs": [
    {
     "name": "stdout",
     "output_type": "stream",
     "text": [
      "{'180': 1, '200': 1, '220': 1, '230': 1}\n"
     ]
    }
   ],
   "source": [
    "def count(dat):\n",
    "    unique, counts = np.unique(dat, return_counts=True)\n",
    "    return dict(zip(unique, counts))\n",
    "    \n",
    "car_model = data[:,0]\n",
    "model_year = data[:,1].astype(int)\n",
    "price = data[:,2].astype(float)\n",
    "transmission = data[:, 3]\n",
    "mileage = data[:,4].astype(float)\n",
    "tax = data[:, 6].astype(float)\n",
    "fuel_type = data[:,5]\n",
    "mpg = data[:,7].astype(float)\n",
    "engine = data[:,8].astype(float)\n",
    "\n",
    "mydict = count(car_model)\n",
    "first_pairs = {k: mydict[k] for k in list(mydict)[:4]}\n",
    "print(first_pairs)"
   ]
  },
  {
   "cell_type": "code",
   "execution_count": 4,
   "id": "8ac34e57-fd13-4a1e-85bd-5f2f41c925d7",
   "metadata": {},
   "outputs": [
    {
     "name": "stdout",
     "output_type": "stream",
     "text": [
      "min= 650.0, max= 159999.0, ptp= 159349.0, var= 140238273.47271252, std= 11842.224177607537\n"
     ]
    }
   ],
   "source": [
    "def spread(dat):\n",
    "    min = np.min(dat)\n",
    "    max = np.max(dat)\n",
    "    ptp = np.ptp(dat)\n",
    "    var = np.var(dat)\n",
    "    std = np.std(dat)\n",
    "    return min, max, ptp, var, std\n",
    "\n",
    "min, max, ptp, var, std = spread(price)\n",
    "print(f\"min= {min}, max= {max}, ptp= {ptp}, var= {var}, std= {std}\")\n",
    "# spread(mileage.astype(float))"
   ]
  },
  {
   "cell_type": "code",
   "execution_count": 5,
   "id": "0b13acaf-ad05-4614-868a-8fbdaccd7149",
   "metadata": {},
   "outputs": [
    {
     "name": "stdout",
     "output_type": "stream",
     "text": [
      "mean= 24698.596920496988, median= 22480.0, mode= ModeResult(mode=array([24999.]), count=array([48])), quantile=[17450. 22480. 28980.]\n"
     ]
    }
   ],
   "source": [
    "def central(dat):\n",
    "    mean = np.mean(dat)\n",
    "    median = np.median(dat)\n",
    "    mode = stats.mode(dat)\n",
    "    quantile = np.quantile(dat, [0.25, 0.5, 0.75])\n",
    "    return mean, median, mode, quantile\n",
    "\n",
    "mean, median, mode, quantile = central(price)\n",
    "print(f\"mean= {mean}, median= {median}, mode= {mode}, quantile={quantile}\")"
   ]
  },
  {
   "cell_type": "code",
   "execution_count": 6,
   "id": "f57e060e-5577-4557-a009-3cdaa9979f1c",
   "metadata": {},
   "outputs": [
    {
     "name": "stdout",
     "output_type": "stream",
     "text": [
      "skew= 2.650461286567856, kurtosis= 15.441843465965537\n"
     ]
    }
   ],
   "source": [
    "def stat(dat):\n",
    "    skew = stats.skew(dat)\n",
    "    kurtosis = stats.kurtosis(dat)\n",
    "    return skew, kurtosis\n",
    "skew, kurtosis = stat(price)\n",
    "print(f\"skew= {skew}, kurtosis= {kurtosis}\")    "
   ]
  },
  {
   "cell_type": "markdown",
   "id": "62fdfa55-afac-49bb-b41e-e1f8cb995d1f",
   "metadata": {},
   "source": [
    "# 1. Univariate Linear Regression"
   ]
  },
  {
   "cell_type": "code",
   "execution_count": 7,
   "id": "82796159-c8f3-4d27-b710-4b46c0e191dc",
   "metadata": {},
   "outputs": [
    {
     "name": "stdout",
     "output_type": "stream",
     "text": [
      "[[ 1.    -0.537]\n",
      " [-0.537  1.   ]]\n"
     ]
    }
   ],
   "source": [
    "# Find the relationship between price and mileage\n",
    "corr = np.corrcoef(price, mileage)\n",
    "print(corr)"
   ]
  },
  {
   "cell_type": "code",
   "execution_count": 8,
   "id": "c1845417-6405-4e80-82d2-58d152a33974",
   "metadata": {},
   "outputs": [
    {
     "name": "stdout",
     "output_type": "stream",
     "text": [
      "slope=-0.9606208874765398, intercept=45675.54712970508, r=-0.5372141241046463, p=0.0, std_err=0.013168750668712072\n"
     ]
    }
   ],
   "source": [
    "def coeffs(x,y):\n",
    "    slope, intercept, r, p, std_err = stats.linregress(x, y)\n",
    "    return slope, intercept, r, p, std_err\n",
    "slope, intercept, r, p, std_err = coeffs(price, mileage)\n",
    "print(f'slope={slope}, intercept={intercept}, r={r}, p={p}, std_err={std_err}')"
   ]
  },
  {
   "cell_type": "markdown",
   "id": "9e76c5a0-e53a-45fc-b137-b0db6d4be672",
   "metadata": {},
   "source": [
    "The p value is 0.0 significant (<0.05), which suggests that there is a significant relationship between \n",
    "price and mileage. \n",
    "r=-0.4545694292550474, indicates a negative linear relationship between price and mileage variables.\n",
    "std_err=0.011364781367883377, represents the standard deviation of the residuals. It gives an estimate of the spread of observed data points across the predicted regression line.\n",
    "The higher mileage, the lesser price. \n",
    "<!-- The standard error of the regression, also known as the standard error of the estimate, represents the average distance that the observed values fall from the regression line. Conveniently, it tells you how wrong the regression model is on average using the units of the response variable. -->"
   ]
  },
  {
   "cell_type": "code",
   "execution_count": 9,
   "id": "52a067e3-70ec-40fd-9555-e41c4b6c6263",
   "metadata": {},
   "outputs": [
    {
     "data": {
      "image/png": "[encoded data removed]",
      "text/plain": [
       "<Figure size 432x288 with 1 Axes>"
      ]
     },
     "metadata": {
      "needs_background": "light"
     },
     "output_type": "display_data"
    }
   ],
   "source": [
    "def scatter(x, y):\n",
    "    fig = plt.figure(figsize=(6,4))\n",
    "    ax = fig.add_subplot()\n",
    "    ax = ax.scatter(x, y, color='green')\n",
    "    plt.show()\n",
    "\n",
    "# scatter(price, car_model)\n",
    "# scatter(mpg, car_model)\n",
    "# scatter(price, model_year)\n",
    "scatter(price, mileage)"
   ]
  },
  {
   "cell_type": "code",
   "execution_count": 10,
   "id": "6530bdee-2bb3-4ea1-a9fa-630b958f4962",
   "metadata": {},
   "outputs": [
    {
     "name": "stdout",
     "output_type": "stream",
     "text": [
      " \n",
      "-0.9606 x + 4.568e+04\n"
     ]
    }
   ],
   "source": [
    "ln_model = np.poly1d((slope, intercept))\n",
    "print(ln_model)"
   ]
  },
  {
   "cell_type": "code",
   "execution_count": 11,
   "id": "8c62c9fc-3a04-49b9-bd45-3259adc8d37b",
   "metadata": {},
   "outputs": [
    {
     "name": "stdout",
     "output_type": "stream",
     "text": [
      "21660.024942791588\n"
     ]
    }
   ],
   "source": [
    "# Predict the price for a used Merc car based on mileages\n",
    "pred_price = ln_model(25000) # 25k miles\n",
    "print(pred_price)"
   ]
  },
  {
   "cell_type": "code",
   "execution_count": 12,
   "id": "5aad9ab9-a7ee-4f38-b284-aab8df317108",
   "metadata": {},
   "outputs": [
    {
     "data": {
      "image/png": "[encoded data removed]",
      "text/plain": [
       "<Figure size 432x288 with 1 Axes>"
      ]
     },
     "metadata": {
      "needs_background": "light"
     },
     "output_type": "display_data"
    }
   ],
   "source": [
    "def ln_model(x):\n",
    "    return slope * x + intercept\n",
    "\n",
    "x = price\n",
    "y = mileage\n",
    "\n",
    "ln_model = list(map(ln_model, x))\n",
    "\n",
    "plt.scatter(x, y, color = 'green', label='Regression line')\n",
    "plt.plot(x, ln_model, color = 'blue', label='Actual value')\n",
    "plt.xlabel('Price')\n",
    "plt.ylabel('Mileage')\n",
    "plt.legend()\n",
    "plt.show()"
   ]
  },
  {
   "cell_type": "markdown",
   "id": "d235e5e9-e14b-4a91-b036-9e01a5fae34e",
   "metadata": {},
   "source": [
    "The univariate linear regression only explains one variable. Therefore, we go for a different model, multivariate linear regression, to explain the price better. "
   ]
  },
  {
   "cell_type": "markdown",
   "id": "e17eadff-713a-46f4-90c3-f2966b94cfda",
   "metadata": {},
   "source": [
    "# 2. Multivariate Linear Regression"
   ]
  },
  {
   "cell_type": "markdown",
   "id": "c6874f07-dd7b-44c6-8e6c-0ba314c51dc3",
   "metadata": {},
   "source": [
    "function:\n",
    "    price = m1*(model) + m2*(year) + m3*(transmission) + m4*(tax) + m5*(mileage) + m6*(fuelType) + m7*(mpg) + m8*(engineSize) + b\n",
    "- Dependent variable: price\n",
    "- Independent variable: model, year, transmission, fuelType, mpg, engineSize\n",
    "- Coefficients: m1, m2, m3, m4, m5, m6, m7\n",
    "- Intercept: b\n",
    "Data Preprocessing\n",
    "Linear Regression using Multiple Variables "
   ]
  },
  {
   "cell_type": "code",
   "execution_count": 13,
   "id": "36346e75-d4d8-46f6-812d-569bf43e0553",
   "metadata": {},
   "outputs": [
    {
     "name": "stdout",
     "output_type": "stream",
     "text": [
      "(13119,),(13119,),(13119,),(13119,),(13119,),(13119,)\n",
      "(13119,)\n"
     ]
    }
   ],
   "source": [
    "# Defining data: The input(regressors, x) and output(predictor,y)\n",
    "# The input(regressors, x)\n",
    "print(car_model.shape, model_year.shape, transmission.shape, fuel_type.shape, mpg.shape, engine.shape, sep=',')\n",
    "# print(car_model, model_year, transmission, fuel_type, mpg, engine, sep='\\n' )\n",
    "\n",
    "# The output(predictor,y)\n",
    "print(price.shape)"
   ]
  },
  {
   "cell_type": "code",
   "execution_count": 14,
   "id": "75d24802-bcce-450c-8ff4-6bcd7d50b6a8",
   "metadata": {},
   "outputs": [
    {
     "name": "stdout",
     "output_type": "stream",
     "text": [
      "(13119, 9)\n",
      "[['SLK' '2005' '5200' ... '325' '32.1' '1.8']\n",
      " ['S Class' '2017' '34948' ... '20' '61.4' '2.1']\n",
      " ['SL CLASS' '2016' '49948' ... '555' '28.0' '5.5']\n",
      " ...\n",
      " ['GLC Class' '2019' '30999' ... '145' '41.5' '2.1']\n",
      " ['CLS Class' '2019' '37990' ... '145' '45.6' '2.0']\n",
      " ['S Class' '2019' '54999' ... '145' '52.3' '2.9']]\n",
      "[['SLK' 'S Class' 'SL CLASS' ... 'GLC Class' 'CLS Class' 'S Class']\n",
      " ['2005' '2017' '2016' ... '2019' '2019' '2019']\n",
      " ['5200' '34948' '49948' ... '30999' '37990' '54999']\n",
      " ...\n",
      " ['325' '20' '555' ... '145' '145' '145']\n",
      " ['32.1' '61.4' '28.0' ... '41.5' '45.6' '52.3']\n",
      " ['1.8' '2.1' '5.5' ... '2.1' '2.0' '2.9']]\n"
     ]
    }
   ],
   "source": [
    "print(data.shape)\n",
    "print(data)\n",
    "print(data.T[:9])"
   ]
  },
  {
   "cell_type": "code",
   "execution_count": 15,
   "id": "16694167-432a-437e-b4e2-f60951d6a36a",
   "metadata": {},
   "outputs": [
    {
     "name": "stdout",
     "output_type": "stream",
     "text": [
      "(13119, 9)\n",
      "(13119,)\n",
      "[[  24    9 4014 ...   32   56    6]\n",
      " [  22   21 3298 ...   13  108    8]\n",
      " [  23   20 3970 ...   36   40   23]\n",
      " ...\n",
      " [  17   23 3002 ...    6   80    8]\n",
      " [  11   23 3487 ...    6   88    7]\n",
      " [  22   23 4070 ...    6   96   13]]\n",
      "[ 6  8 23 ...  8  7 13]\n"
     ]
    }
   ],
   "source": [
    "# Convert Categorical to Numeric \n",
    "from sklearn.preprocessing import LabelEncoder\n",
    "# LabelEncoder\n",
    "lbl_encode = LabelEncoder()\n",
    "X = np.stack([lbl_encode.fit_transform(col) for col in data.T[0:9]], axis=1) \n",
    "Y = lbl_encode.fit_transform(data[:,8])\n",
    "print(X.shape)\n",
    "print(Y.shape)\n",
    "print(X)\n",
    "print(Y)"
   ]
  },
  {
   "cell_type": "code",
   "execution_count": 16,
   "id": "381a673c-9a0c-428a-a9d1-ffd14cacb755",
   "metadata": {},
   "outputs": [
    {
     "name": "stdout",
     "output_type": "stream",
     "text": [
      "[[1.    0.521]\n",
      " [0.521 1.   ]]\n",
      "[[ 1.    -0.438]\n",
      " [-0.438  1.   ]]\n",
      "[[1.    0.516]\n",
      " [0.516 1.   ]]\n",
      "[[1.    0.269]\n",
      " [0.269 1.   ]]\n",
      "[[1.    0.334]\n",
      " [0.334 1.   ]]\n",
      "[[1.    0.141]\n",
      " [0.141 1.   ]]\n",
      "[[1.    0.189]\n",
      " [0.189 1.   ]]\n"
     ]
    }
   ],
   "source": [
    "# Check the relationship between the price with other features.\n",
    "def relationship(x, y):\n",
    "    corr = np.corrcoef(x, y)\n",
    "    return corr\n",
    "\n",
    "corr_yr = relationship(price, model_year)\n",
    "corr_mpg = relationship(price, mpg) \n",
    "corr_eng = relationship(price, engine) \n",
    "corr_tax = relationship(price, tax)\n",
    "corr_car_model = relationship(price, X[:, 0]) \n",
    "corr_trans = relationship(price, X[:, 3])\n",
    "corr_fuel = relationship(price, X[:, 5])\n",
    "\n",
    "print(corr_yr, corr_mpg, corr_eng, corr_tax, corr_car_model, corr_trans, corr_fuel, sep='\\n')"
   ]
  },
  {
   "cell_type": "markdown",
   "id": "01a90e72-45c6-41a7-a596-0ece6e4dc149",
   "metadata": {},
   "source": [
    "- the higher engine, the higher price\n",
    "- when the mpg is going down, the price goes up\n",
    "- the higher engine, the higher price\n",
    "- the other features: the tax, car_model, transmission, fuel_type influence less influence on the price.\n",
    "price = m1*(mileage) + m2*(mpg) + m3*(engineSize) + b"
   ]
  },
  {
   "cell_type": "code",
   "execution_count": 17,
   "id": "ddd42493-02db-444e-948c-a91ecc1f25a2",
   "metadata": {},
   "outputs": [
    {
     "name": "stdout",
     "output_type": "stream",
     "text": [
      "[ 0  1  2 ... 24 25 26]\n",
      "['180' '200' '220' ... 'SLK' 'V Class' 'X-CLASS']\n",
      "[0 1 2 3]\n",
      "['Automatic' 'Manual' 'Other' 'Semi-Auto']\n",
      "[0 1 2 3]\n",
      "['Diesel' 'Hybrid' 'Other' 'Petrol']\n"
     ]
    }
   ],
   "source": [
    "#car_model\n",
    "print(np.unique(X[:,0]))\n",
    "print(np.unique(car_model))\n",
    "#transmission\n",
    "print(np.unique(X[:,3]))\n",
    "print(np.unique(transmission))\n",
    "#fuel_type\n",
    "print(np.unique(X[:,5]))\n",
    "print(np.unique(fuel_type))"
   ]
  },
  {
   "cell_type": "code",
   "execution_count": 18,
   "id": "70d2a951-958f-4734-8417-54aa53cc4989",
   "metadata": {},
   "outputs": [],
   "source": [
    "# Shuffle data randomly\n",
    "np.random.seed(3)\n",
    "rand_indices = np.arange(11091)\n",
    "np.random.shuffle(rand_indices)\n",
    "# print(rand_indices)"
   ]
  },
  {
   "cell_type": "code",
   "execution_count": 19,
   "id": "5ac6dff9-9d86-4217-92cd-e087ac235451",
   "metadata": {},
   "outputs": [
    {
     "name": "stdout",
     "output_type": "stream",
     "text": [
      "(10495, 3) (10495,)\n",
      "(596, 3) (596,)\n"
     ]
    }
   ],
   "source": [
    "# Divide data into Train & Test \n",
    "N_TRAIN = int((X.shape[0]) * 0.8)\n",
    "train_indices = rand_indices[0:N_TRAIN]\n",
    "test_indices= rand_indices[N_TRAIN:]\n",
    "\n",
    "X_data = X[:, [4,7,8]]\n",
    "\n",
    "x_train, y_train = X_data[train_indices], price[train_indices] \n",
    "print(x_train.shape, y_train.shape)\n",
    "\n",
    "x_test, y_test = X_data[test_indices], price[test_indices] \n",
    "print(x_test.shape, y_test.shape)\n",
    "\n",
    "# print(x_train)\n",
    "# print(y_train)\n",
    "# print(x_test)\n",
    "# print(y_test)"
   ]
  },
  {
   "cell_type": "code",
   "execution_count": 20,
   "id": "e6304981-3e52-4faf-b44f-7f77a9c88e83",
   "metadata": {},
   "outputs": [
    {
     "data": {
      "text/plain": [
       "LinearRegression()"
      ]
     },
     "execution_count": 20,
     "metadata": {},
     "output_type": "execute_result"
    }
   ],
   "source": [
    "# Create a regression model and fit it with existing data\n",
    "mlt_model = LinearRegression()\n",
    "mlt_model.fit(x_train,y_train)"
   ]
  },
  {
   "cell_type": "code",
   "execution_count": 21,
   "id": "5d69a2c1-ef74-4804-920c-7738fb83395e",
   "metadata": {},
   "outputs": [
    {
     "name": "stdout",
     "output_type": "stream",
     "text": [
      "intercept: 45488.79590048642\n",
      "slope: [  -0.366 -276.928 1103.683]\n",
      "coefficient of determination(r_square): 0.4565896125749729\n"
     ]
    }
   ],
   "source": [
    "# Get results (.intercept_ is a scalar, .coef_ is an array)\n",
    "print('intercept: ' + format(mlt_model.intercept_))\n",
    "print('slope: ' + format(mlt_model.coef_))\n",
    "# Check the results of model fitting to know whether the model is satisfactory\n",
    "r_sq = mlt_model.score(x_train,y_train)\n",
    "print(\"coefficient of determination(r_square): \" + format(r_sq))"
   ]
  },
  {
   "cell_type": "code",
   "execution_count": 22,
   "id": "ba38bf56-3dba-475e-8577-0967e2d21965",
   "metadata": {},
   "outputs": [
    {
     "name": "stdout",
     "output_type": "stream",
     "text": [
      "predicted response: 25196.206733350526\n",
      "(596,)\n",
      "6034.434895020893\n"
     ]
    }
   ],
   "source": [
    "# Predict response\n",
    "y_pred = mlt_model.predict([x_test[0]]).squeeze()\n",
    "print('predicted response:', y_pred)\n",
    "\n",
    "# Apply the model for predictions\n",
    "y_pred = mlt_model.predict(x_test)\n",
    "print(y_pred.shape)\n",
    "err = y_pred - y_test\n",
    "print(np.mean(abs(err)))"
   ]
  },
  {
   "cell_type": "code",
   "execution_count": 23,
   "id": "0e33f143-2994-4bd6-9f37-7ade9ce39866",
   "metadata": {},
   "outputs": [
    {
     "name": "stdout",
     "output_type": "stream",
     "text": [
      "[63000.     32.1     1.8]\n",
      "15539.962619377537\n",
      "20926.256325109454\n"
     ]
    }
   ],
   "source": [
    "# one_car_features = np.array(X[:,[4,7,8]][0])\n",
    "st_car_features = np.array([63000, 32.1, 1.8])\n",
    "print(st_car_features)\n",
    "y_pred_st_car = mlt_model.predict([st_car_features]).squeeze()\n",
    "print(y_pred_st_car)\n",
    "\n",
    "y_pred_nd_car = mlt_model.predict([np.array([27000,61.4,2.1])]).squeeze()\n",
    "print(y_pred_nd_car)"
   ]
  },
  {
   "cell_type": "code",
   "execution_count": 24,
   "id": "3db82fde-cb20-4bd9-8b9f-754e26b761f3",
   "metadata": {},
   "outputs": [
    {
     "name": "stdout",
     "output_type": "stream",
     "text": [
      "21935.208663548754\n"
     ]
    }
   ],
   "source": [
    "# let's predict a car \n",
    "desired_car = np.array([25000, 60, 2]) # 25k miles, mpg 60, engine size 2 \n",
    "pred_desired_car = mlt_model.predict([desired_car]).squeeze() \n",
    "print(pred_desired_car)"
   ]
  },
  {
   "cell_type": "code",
   "execution_count": 25,
   "id": "b61112f6-ef68-4374-a1d1-cc83ff186353",
   "metadata": {},
   "outputs": [
    {
     "data": {
      "image/png": "[encoded data removed]",
      "text/plain": [
       "<Figure size 432x288 with 1 Axes>"
      ]
     },
     "metadata": {
      "needs_background": "light"
     },
     "output_type": "display_data"
    }
   ],
   "source": [
    "# Scatter plot\n",
    "colors = np.random.randint(100, size=(y_pred.size))\n",
    "sizes = np.random.randint(100, size=(y_pred.size))\n",
    "\n",
    "plt.figure(figsize=[6,4]) \n",
    "plt.scatter(y_pred, y_test, marker='o', alpha=.5, s=sizes, c=colors)\n",
    "plt.show()"
   ]
  },
  {
   "cell_type": "code",
   "execution_count": 26,
   "id": "c125be8b-f11f-4884-a5f9-6d4194ac0c3a",
   "metadata": {},
   "outputs": [
    {
     "data": {
      "image/png": "[encoded data removed]",
      "text/plain": [
       "<Figure size 432x288 with 1 Axes>"
      ]
     },
     "metadata": {
      "needs_background": "light"
     },
     "output_type": "display_data"
    }
   ],
   "source": [
    "def plot_error(err, bins=10):\n",
    "    mean, std = np.mean(err), np.std(err)\n",
    "    \n",
    "    plt.figure(figsize=[6,4])    \n",
    "    plt.title(\"Car Price Prediction\")\n",
    "    plt.xlim([mean - 4*std,mean + 4*std]); #plt.ylim([0,60])\n",
    "    plt.hist(err, density=True, bins=bins, color='green')\n",
    "    \n",
    "    #x = np.linspace(mean - 4*std, mean + 4*std,100)\n",
    "    #plt.plot(x, stats.norm.pdf(x, mean, std))\n",
    "    \n",
    "    norm_dist = np.random.normal(mean, std, 10000)\n",
    "    plt.hist(norm_dist, color='blue', alpha=0.4, density=True, bins=50)\n",
    "    plt.show()\n",
    "plot_error(err, bins=20)"
   ]
  },
  {
   "cell_type": "code",
   "execution_count": 27,
   "id": "3bc7b05e-d972-47de-b70e-ff3768ec0076",
   "metadata": {},
   "outputs": [
    {
     "name": "stdout",
     "output_type": "stream",
     "text": [
      "0.5054501010812016\n"
     ]
    }
   ],
   "source": [
    "test_q2 = mlt_model.score(x_test, y_test)\n",
    "print(test_q2)"
   ]
  },
  {
   "cell_type": "code",
   "execution_count": 28,
   "id": "0cf9b1e2-34e2-4236-ac04-357683ca1271",
   "metadata": {},
   "outputs": [
    {
     "data": {
      "text/plain": [
       "0.5054501010812016"
      ]
     },
     "execution_count": 28,
     "metadata": {},
     "output_type": "execute_result"
    }
   ],
   "source": [
    "from sklearn.metrics import r2_score\n",
    "r2_score(y_test, y_pred)"
   ]
  },
  {
   "cell_type": "code",
   "execution_count": 29,
   "id": "770a0629-23ee-4416-8747-504a822967c0",
   "metadata": {},
   "outputs": [
    {
     "data": {
      "text/plain": [
       "array([-17544.249,  13826.618])"
      ]
     },
     "execution_count": 29,
     "metadata": {},
     "output_type": "execute_result"
    }
   ],
   "source": [
    "np.percentile(err, [2.5, 97.5])"
   ]
  },
  {
   "cell_type": "markdown",
   "id": "b7ad8b81-97b2-404e-be40-3f81f871f238",
   "metadata": {},
   "source": [
    "# 3. Logistic Regression"
   ]
  },
  {
   "cell_type": "code",
   "execution_count": 30,
   "id": "ec6cc81e-2374-4061-84a5-5a7da16010be",
   "metadata": {},
   "outputs": [
    {
     "name": "stdout",
     "output_type": "stream",
     "text": [
      "(10495, 9) (10495,)\n",
      "(596, 9) (596,)\n"
     ]
    }
   ],
   "source": [
    "N_TRAIN = int((X.shape[0]) * 0.8)\n",
    "train_indices = rand_indices[0:N_TRAIN]\n",
    "test_indices= rand_indices[N_TRAIN:]\n",
    "\n",
    "x_train, y_train = X[train_indices], Y[train_indices] \n",
    "print(x_train.shape, y_train.shape)\n",
    "\n",
    "x_test, y_test = X[test_indices], Y[test_indices] \n",
    "print(x_test.shape, y_test.shape)\n",
    "\n",
    "# print(x_train)\n",
    "# print(y_train)\n",
    "# print(x_test)\n",
    "# print(y_test)\n",
    "# print(x_train.shape)\n",
    "# print(x_test.shape)"
   ]
  },
  {
   "cell_type": "code",
   "execution_count": 31,
   "id": "ef7eddf7-5d7f-49be-b855-fbffca74b3b6",
   "metadata": {},
   "outputs": [
    {
     "data": {
      "text/plain": [
       "LogisticRegression(random_state=0, solver='liblinear')"
      ]
     },
     "execution_count": 31,
     "metadata": {},
     "output_type": "execute_result"
    }
   ],
   "source": [
    "from sklearn.linear_model import LogisticRegression\n",
    "regressor = LogisticRegression(solver='liblinear', random_state=0)\n",
    "regressor.fit(x_train, y_train)"
   ]
  },
  {
   "cell_type": "code",
   "execution_count": 32,
   "id": "de0c63a1-4e9e-4a4a-969c-a5995438ea6f",
   "metadata": {},
   "outputs": [
    {
     "name": "stdout",
     "output_type": "stream",
     "text": [
      "Training accuracy: 0.7440686040971891\n"
     ]
    }
   ],
   "source": [
    "print(\"Training accuracy:\", regressor.score(x_train, y_train))"
   ]
  },
  {
   "cell_type": "code",
   "execution_count": 33,
   "id": "5222f906-5edf-4c98-af73-fcf980b97c79",
   "metadata": {},
   "outputs": [
    {
     "name": "stdout",
     "output_type": "stream",
     "text": [
      "Testing accuracy: 0.76\n"
     ]
    }
   ],
   "source": [
    "acc = regressor.score(x_test, y_test)\n",
    "print(\"Testing accuracy: %.2f\"%(acc))"
   ]
  },
  {
   "cell_type": "code",
   "execution_count": 34,
   "id": "a1467380-6515-4789-a99c-d8a17f738991",
   "metadata": {},
   "outputs": [
    {
     "name": "stdout",
     "output_type": "stream",
     "text": [
      "[4]\n",
      "[   4   17  168    3 3867    3    6   94    4]\n"
     ]
    }
   ],
   "source": [
    "print(regressor.predict([x_test[70]]))\n",
    "print(x_test[70])"
   ]
  },
  {
   "cell_type": "code",
   "execution_count": 35,
   "id": "15e4a76b-a00b-4970-9be2-f7a78f445f4d",
   "metadata": {},
   "outputs": [
    {
     "name": "stdout",
     "output_type": "stream",
     "text": [
      "[[  17   21 2532 ...    3  102    8]\n",
      " [  15   18  775 ...    6  101    8]\n",
      " [   4   23 2151 ...    6  111    3]\n",
      " ...\n",
      " [   4   23 2347 ...    6  112    3]\n",
      " [   6   21 1291 ...    6  108    8]\n",
      " [   5   23 1945 ...    6  101    7]]\n",
      "[ 8  8  3  8  7  4  8  3  8  7  7  8  8  7  8  7  3  8 14  7]\n"
     ]
    }
   ],
   "source": [
    "test_y = regressor.predict(x_test[0:20])\n",
    "print(x_test[0:10])\n",
    "print(test_y)"
   ]
  },
  {
   "cell_type": "code",
   "execution_count": 36,
   "id": "58bacdb5-8d4b-401d-abec-5076392a42fa",
   "metadata": {},
   "outputs": [
    {
     "name": "stdout",
     "output_type": "stream",
     "text": [
      "0.034202573146766106\n",
      "CI of 95%: 0.76 +/- 0.03\n"
     ]
    }
   ],
   "source": [
    "# Confidence Interval of 95%\n",
    "z = 1.96\n",
    "n = y_test.shape[0]\n",
    "interval = z*np.sqrt(acc*(1-acc)/n)\n",
    "print(interval)\n",
    "print(f\"CI of 95%%: %.2f +/- %.2f\"%(acc,interval))"
   ]
  }
 ],
 "metadata": {
  "kernelspec": {
   "display_name": "Python 3 (ipykernel)",
   "language": "python",
   "name": "python3"
  },
  "language_info": {
   "codemirror_mode": {
    "name": "ipython",
    "version": 3
   },
   "file_extension": ".py",
   "mimetype": "text/x-python",
   "name": "python",
   "nbconvert_exporter": "python",
   "pygments_lexer": "ipython3",
   "version": "3.8.12"
  }
 },
 "nbformat": 4,
 "nbformat_minor": 5
}
